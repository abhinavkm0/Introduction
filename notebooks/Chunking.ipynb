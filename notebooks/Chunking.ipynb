{
 "cells": [
  {
   "cell_type": "markdown",
   "id": "aa94a0b9",
   "metadata": {},
   "source": [
    "# Chunking Techniques\n",
    "\n",
    "The choice of a chunk strategy may depend on the following\n",
    "\n",
    "1. Document type\n",
    "2. Complexity of the query being made\n",
    "3. Time and computation constraints\n",
    "4. Speed vs Accuracy balance"
   ]
  },
  {
   "cell_type": "markdown",
   "id": "e01fe621",
   "metadata": {},
   "source": [
    "#### Sentence Splitter"
   ]
  },
  {
   "cell_type": "code",
   "execution_count": 1,
   "id": "31416545",
   "metadata": {},
   "outputs": [
    {
     "name": "stdout",
     "output_type": "stream",
     "text": [
      "\u001b[1mLoading .env environment variables\u001b[0m\u001b[1;33m...\u001b[0m\n",
      "To activate this project's virtualenv, run \u001b[33mpipenv shell\u001b[0m.\n",
      "Alternatively, run a command inside the virtualenv with \u001b[33mpipenv run\u001b[0m.\n",
      "\u001b[1;32mInstalling nltk...\u001b[0m\n",
      "✔ Installation Succeeded\n",
      "To activate this project's virtualenv, run \u001b[33mpipenv shell\u001b[0m.\n",
      "Alternatively, run a command inside the virtualenv with \u001b[33mpipenv run\u001b[0m.\n",
      "\u001b[1mInstalling dependencies from Pipfile.lock \u001b[0m\u001b[1;39m(131a65)...\u001b[0m\n",
      "\u001b[32mAll dependencies are now up-to-date!\u001b[0m\n",
      "\u001b[1;32mUpgrading\u001b[0m nltk in \u001b[39m dependencies.\u001b[0m\n",
      "\u001b[?25lBuilding requirements...\n",
      "\u001b[2KResolving dependencies....\n",
      "\u001b[2K✔ Success! Locking packages...\n",
      "\u001b[2K\u001b[32m⠹\u001b[0m Locking packages...\n",
      "\u001b[1A\u001b[2K\u001b[?25lBuilding requirements...\n",
      "\u001b[2KResolving dependencies....\n",
      "\u001b[2K✔ Success! Locking packages...\n",
      "\u001b[2K\u001b[32m⠼\u001b[0m Locking packages...\n",
      "\u001b[1A\u001b[2K\u001b[?25lBuilding requirements...\n",
      "\u001b[2KResolving dependencies....\n",
      "\u001b[2K✔ Success! Locking packages...\n",
      "\u001b[2K\u001b[32m⠇\u001b[0m Locking packages...\n",
      "\u001b[1A\u001b[2KTo activate this project's virtualenv, run \u001b[33mpipenv shell\u001b[0m.\n",
      "Alternatively, run a command inside the virtualenv with \u001b[33mpipenv run\u001b[0m.\n",
      "\u001b[1mInstalling dependencies from Pipfile.lock \u001b[0m\u001b[1;39m(990cba)...\u001b[0m\n",
      "\u001b[32mAll dependencies are now up-to-date!\u001b[0m\n",
      "\u001b[1mInstalling dependencies from Pipfile.lock \u001b[0m\u001b[1;39m(990cba)...\u001b[0m\n"
     ]
    }
   ],
   "source": [
    "!pipenv install nltk"
   ]
  },
  {
   "cell_type": "code",
   "execution_count": null,
   "id": "43740d72",
   "metadata": {},
   "outputs": [],
   "source": [
    "from nltk import download\n",
    "\n",
    "download(\"punkt_tab\")"
   ]
  },
  {
   "cell_type": "markdown",
   "id": "f88b2ab9",
   "metadata": {},
   "source": [
    "MD Chunker"
   ]
  },
  {
   "cell_type": "markdown",
   "id": "a572900a",
   "metadata": {},
   "source": [
    "# 1. Heading 1\n",
    "some content for test\n",
    "\n",
    "## 1.1 Heading 1.1\n",
    "some content for test\n",
    "\n",
    "## 1.2 Heading 1.2\n",
    "some content for test\n",
    "\n",
    "# 2. Heading 2\n",
    "some content for test"
   ]
  },
  {
   "cell_type": "markdown",
   "id": "b19a7d0f",
   "metadata": {},
   "source": [
    "# 1. Heading 1\n",
    "some content for test (chunk 1)\n",
    "\n",
    "# 1. Heading 1\n",
    "## 1.1 Heading 1.1\n",
    "some content for test (chunk 2)"
   ]
  }
 ],
 "metadata": {
  "kernelspec": {
   "display_name": "learning-bHz_lsOL",
   "language": "python",
   "name": "python3"
  },
  "language_info": {
   "codemirror_mode": {
    "name": "ipython",
    "version": 3
   },
   "file_extension": ".py",
   "mimetype": "text/x-python",
   "name": "python",
   "nbconvert_exporter": "python",
   "pygments_lexer": "ipython3",
   "version": "3.10.5"
  }
 },
 "nbformat": 4,
 "nbformat_minor": 5
}
