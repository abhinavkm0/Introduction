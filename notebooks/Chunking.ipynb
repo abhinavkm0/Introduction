{
 "cells": [
  {
   "cell_type": "markdown",
   "id": "f88b2ab9",
   "metadata": {},
   "source": [
    "MD Chunker"
   ]
  },
  {
   "cell_type": "markdown",
   "id": "a572900a",
   "metadata": {},
   "source": [
    "# 1. Heading 1\n",
    "some content for test\n",
    "\n",
    "## 1.1 Heading 1.1\n",
    "some content for test\n",
    "\n",
    "## 1.2 Heading 1.2\n",
    "some content for test\n",
    "\n",
    "# 2. Heading 2\n",
    "some content for test"
   ]
  },
  {
   "cell_type": "markdown",
   "id": "b19a7d0f",
   "metadata": {},
   "source": [
    "# 1. Heading 1\n",
    "some content for test (chunk 1)\n",
    "\n",
    "# 1. Heading 1\n",
    "## 1.1 Heading 1.1\n",
    "some content for test (chunk 2)"
   ]
  }
 ],
 "metadata": {
  "language_info": {
   "name": "python"
  }
 },
 "nbformat": 4,
 "nbformat_minor": 5
}
