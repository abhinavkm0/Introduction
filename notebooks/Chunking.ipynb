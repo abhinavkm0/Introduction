{
 "cells": [
  {
   "cell_type": "markdown",
   "id": "aa94a0b9",
   "metadata": {},
   "source": [
    "# Chunking Techniques\n",
    "\n",
    "The choice of a chunk strategy may depend on the following\n",
    "\n",
    "1. Document type\n",
    "2. Complexity of the query being made\n",
    "3. Time and computation constraints\n",
    "4. Speed vs Accuracy balance"
   ]
  },
  {
   "cell_type": "code",
   "execution_count": null,
   "id": "31416545",
   "metadata": {},
   "outputs": [],
   "source": [
    "!pipenv install nltk"
   ]
  },
  {
   "cell_type": "code",
   "execution_count": 2,
   "id": "43740d72",
   "metadata": {},
   "outputs": [
    {
     "name": "stderr",
     "output_type": "stream",
     "text": [
      "[nltk_data] Downloading package punkt_tab to /home/abhi/nltk_data...\n",
      "[nltk_data]   Unzipping tokenizers/punkt_tab.zip.\n"
     ]
    },
    {
     "data": {
      "text/plain": [
       "True"
      ]
     },
     "execution_count": 2,
     "metadata": {},
     "output_type": "execute_result"
    }
   ],
   "source": [
    "from nltk import download\n",
    "\n",
    "download(\"punkt_tab\")"
   ]
  },
  {
   "cell_type": "code",
   "execution_count": 31,
   "id": "c8c46035",
   "metadata": {},
   "outputs": [],
   "source": [
    "context = \"\"\"\n",
    "Nosy Komba (Malagasy pronunciation: [nusʲ ˈkuᵐba]; lit. 'island of lemurs'), also known as Nosy Ambariovato, is a small volcanic island in Madagascar, situated between the island of Nosy Be and the northwestern coast of the main island of Madagascar. Roughly circular, it rises sharply towards a plateau and the summit of Antaninaombi at the center of the island. Administered as an arrondissement of the unitary commune and district of Nosy-Be within Diana Region, the island is divided into five fokontany (villages), with Ampangorina as the main village and administrative center. The population is mainly restricted to the northern half of the island. The economy is reliant on tourism and handicrafts, supplemented by a wide range of agricultural products. Hotels and guest houses support tourists to the island, mainly on excursions from Nosy Be.\n",
    "\n",
    "The lowlands of the island are divided between secondary forest and a patchwork of farmland and plantations (notably including shade-grown coffee), while the highlands are mainly scrubland, with a bamboo forest in the northern portions. The island hosts a diverse range of reptiles and amphibians, although this has been reduced by deforestation. The island is known for its black lemurs, causing it to attract significant ecotourism. Heavily deforested during the 19th and 20th centuries, the island has only small pockets of old-growth forest remaining in remote areas. Although the island hosts a traditionally protected forest and an arboretum established in the colonial era, protection for the latter is essentially unenforced, and illegal logging continues.\n",
    "\n",
    "During the early 19th century, the region was heavily settled by Sakalava refugees and their slaves fleeing the hegemony of the Merina Kingdom. France gained control of the island in 1840; it was converted to a logistic center for the import of indentured servants and local slaves, and later a sanatorium retreat for colonists.\n",
    "\n",
    "Geography\n",
    "View of houses in a village with a hilly jungle background\n",
    "A village on Nosy Komba\n",
    "Nosy Komba (from Malagasy, lit. 'island of lemurs'), also known as Nosy Ambariovato, is a small circular volcanic island 27.9 km2 (10.8 sq mi) in area. It is located 3 km (2 mi) south of the larger island of Nosy Be and 4 km (2.5 mi) north of Doany, the nearest point of the main island of Madagascar. Nosy Komba's lowlands are largely divided between farmland and secondary forests, while scrub predominates in the highlands.[1][2] All sides of the island steeply rise towards the central plateau. Antaninaombi, the summit of the island, reaches a height of 622 m (2,041 ft). Nearby is a slightly lower secondary summit, Ankisoabé.[2][3][4]\n",
    "\n",
    "The island has high precipitation for much of the year, but experiences a dry season from June to September. Weather data from nearby Nosy Be gives a mean annual temperature of around 26 °C (79 °F).[2]\n",
    "\n",
    "The island formed during or shortly after the end of the Cretaceous period 66 million years ago, as Madagascar separated from the continent of Africa. The landmass consists of an igneous intrusion of gabbro and nepheline surrounded by schist.[2][5] One or more periods of volcanic activity emerged within the Nosy Be volcanic area during the Miocene, with Nosy Komba's igneous rock estimated at around 10 million years old.[6] During the Last Glacial Period, the island was connected to other nearby islands, including Nosy Be. Around 8,000 years ago, rising sea levels cut it off from the main island of Madagascar.[3]\n",
    "\n",
    "History\n",
    "In the early 19th century, the Merina Kingdom gained hegemony over the Sakalava-inhabited northwestern coast of Madagascar. Merina persecution motivated several revolts and the migration of 15,000 people, mainly Sakalava and their slaves, to Nosy Be and Nosy Komba. In 1837, Tsiomeko, the queen of Boina, fled to Nosy Komba. That year, Merina forces attempted to seize the island, but were repulsed.[7][8][9]\n",
    "\n",
    "Expanding French influence over the northwest coast of Madagascar forced Tsiomeko and the Merina to cede a portion of the coast to France in July 1840, including both islands. Three years later, the islands were placed under a local colonial administration named Nosy-Bé et Dépendances (lit. 'Nosy Be and Dependencies'). This was governed from the colony of Réunion.[7][8][10] Nosy Be and Nosy Komba became centers for the colonial labor force, drawn from engagés (indentured servants) recruited from the mainland and local slaves. Engagés were often slaves whose freedom was purchased by Europeans, but who were then immediately engaged as indentured servants on 14-year contracts. Initially, the Malagasy were allowed to keep their slaves and rent them to settlers. However, slavery was abolished in the French colonies by an 1848 decree [fr]. This emancipation was welcomed by the French officials and settlers, who sought to increase the supply of labor, but it breached the earlier agreement with the Malagasy elites and led to slaveowners fleeing to Madagascar with their slaves and launching slave raids on Nosy Be. After the raids were repelled, the freedom of the remaining slaves was purchased. Since the emancipation decree did not apply to nearby islands and the main island of Madagascar, settlers continued to rent slaves from Malagasy elites, shipping them as engagés (alongside others recruited in mainland East Africa) to Mayotte and Réunion. A large hangar housing over 800 workers was constructed on Nosy Komba by the late 1850s and was used to screen newly recruited laborers from Mozambique; many died soon after reaching the island.[11][12]\n",
    "\"\"\""
   ]
  },
  {
   "cell_type": "markdown",
   "id": "88fc6d85",
   "metadata": {},
   "source": [
    "#### Sentence Splitter"
   ]
  },
  {
   "cell_type": "code",
   "execution_count": 32,
   "id": "2db44c04",
   "metadata": {},
   "outputs": [],
   "source": [
    "from nltk import sent_tokenize"
   ]
  },
  {
   "cell_type": "code",
   "execution_count": 33,
   "id": "08f06855",
   "metadata": {},
   "outputs": [],
   "source": [
    "sentences = sent_tokenize(text=context)"
   ]
  },
  {
   "cell_type": "code",
   "execution_count": 34,
   "id": "2dedb321",
   "metadata": {},
   "outputs": [
    {
     "data": {
      "text/plain": [
       "(45,\n",
       " ['\\nNosy Komba (Malagasy pronunciation: [nusʲ ˈkuᵐba]; lit.',\n",
       "  \"'island of lemurs'), also known as Nosy Ambariovato, is a small volcanic island in Madagascar, situated between the island of Nosy Be and the northwestern coast of the main island of Madagascar.\",\n",
       "  'Roughly circular, it rises sharply towards a plateau and the summit of Antaninaombi at the center of the island.'])"
      ]
     },
     "execution_count": 34,
     "metadata": {},
     "output_type": "execute_result"
    }
   ],
   "source": [
    "len(sentences), sentences[:3]"
   ]
  },
  {
   "cell_type": "markdown",
   "id": "70d20e23",
   "metadata": {},
   "source": [
    "#### Length Based\n",
    "\n",
    "This can be token based or character based.\n",
    "Token based is useful when working with similar models, character based is more consistent across different types of text."
   ]
  },
  {
   "cell_type": "code",
   "execution_count": null,
   "id": "410ce2b0",
   "metadata": {},
   "outputs": [],
   "source": [
    "!pipenv install langchain langchain_text_splitters "
   ]
  },
  {
   "cell_type": "code",
   "execution_count": 41,
   "id": "011de2d5",
   "metadata": {},
   "outputs": [
    {
     "data": {
      "text/plain": [
       "(7,\n",
       " \"Nosy Komba (Malagasy pronunciation: [nusʲ ˈkuᵐba]; lit.\\u2009'island of lemurs'), also known as Nosy Ambariovato, is a small volcanic island in Madagascar, situated between the island of Nosy Be and the northwestern coast of the main island of Madagascar. Roughly circular, it rises sharply towards a plateau and the summit of Antaninaombi at the center of the island. Administered as an arrondissement of the unitary commune and district of Nosy-Be within Diana Region, the island is divided into five fokontany (villages), with Ampangorina as the main village and administrative center. The population is mainly restricted to the northern half of the island. The economy is reliant on tourism and handicrafts, supplemented by a wide range of agricultural products. Hotels and guest houses support tourists to the island, mainly on excursions from Nosy Be.\")"
      ]
     },
     "execution_count": 41,
     "metadata": {},
     "output_type": "execute_result"
    }
   ],
   "source": [
    "from langchain_text_splitters import CharacterTextSplitter\n",
    "\n",
    "text_splitter = CharacterTextSplitter.from_tiktoken_encoder(\n",
    "    encoding_name=\"cl100k_base\", chunk_size=210, chunk_overlap=50\n",
    ")\n",
    "texts = text_splitter.split_text(context)\n",
    "len(texts), texts[0]"
   ]
  },
  {
   "cell_type": "markdown",
   "id": "5741176e",
   "metadata": {},
   "source": [
    "#### Text Structure Based"
   ]
  },
  {
   "cell_type": "code",
   "execution_count": 42,
   "id": "4400883f",
   "metadata": {},
   "outputs": [
    {
     "data": {
      "text/plain": [
       "(63,\n",
       " \"Nosy Komba (Malagasy pronunciation: [nusʲ ˈkuᵐba]; lit.\\u2009'island of lemurs'), also known as Nosy\")"
      ]
     },
     "execution_count": 42,
     "metadata": {},
     "output_type": "execute_result"
    }
   ],
   "source": [
    "from langchain_text_splitters import RecursiveCharacterTextSplitter\n",
    "\n",
    "text_splitter = RecursiveCharacterTextSplitter(chunk_size=100, chunk_overlap=0)\n",
    "texts = text_splitter.split_text(context)\n",
    "len(texts), texts[0]"
   ]
  },
  {
   "cell_type": "markdown",
   "id": "f88b2ab9",
   "metadata": {},
   "source": [
    "#### Split by Markdown Headers\n",
    "\n",
    "When splitting markdown content, we can specify headers to group content by"
   ]
  },
  {
   "cell_type": "markdown",
   "id": "a572900a",
   "metadata": {},
   "source": [
    "# 1. Heading 1\n",
    "some content for test\n",
    "\n",
    "## 1.1 Heading 1.1\n",
    "some content for test\n",
    "\n",
    "## 1.2 Heading 1.2\n",
    "some content for test\n",
    "\n",
    "# 2. Heading 2\n",
    "some content for test"
   ]
  },
  {
   "cell_type": "markdown",
   "id": "b19a7d0f",
   "metadata": {},
   "source": [
    "Example of what we want\n",
    "\n",
    "```md\n",
    "# 1. Heading 1\n",
    "some content for test (chunk 1)\n",
    "\n",
    "# 1. Heading 1\n",
    "## 1.1 Heading 1.1\n",
    "some content for test (chunk 2)\n",
    "```"
   ]
  },
  {
   "cell_type": "code",
   "execution_count": 43,
   "id": "f7d97d51",
   "metadata": {},
   "outputs": [],
   "source": [
    "from langchain_text_splitters import MarkdownHeaderTextSplitter"
   ]
  },
  {
   "cell_type": "code",
   "execution_count": 44,
   "id": "4761020a",
   "metadata": {},
   "outputs": [
    {
     "data": {
      "text/plain": [
       "[Document(metadata={'Header 1': 'Foo', 'Header 2': 'Bar'}, page_content='Hi this is Jim  \\nHi this is Joe'),\n",
       " Document(metadata={'Header 1': 'Foo', 'Header 2': 'Bar', 'Header 3': 'Boo'}, page_content='Hi this is Lance'),\n",
       " Document(metadata={'Header 1': 'Foo', 'Header 2': 'Baz'}, page_content='Hi this is Molly')]"
      ]
     },
     "execution_count": 44,
     "metadata": {},
     "output_type": "execute_result"
    }
   ],
   "source": [
    "markdown_document = \"# Foo\\n\\n    ## Bar\\n\\nHi this is Jim\\n\\nHi this is Joe\\n\\n ### Boo \\n\\n Hi this is Lance \\n\\n ## Baz\\n\\n Hi this is Molly\"\n",
    "\n",
    "headers_to_split_on = [\n",
    "    (\"#\", \"Header 1\"),\n",
    "    (\"##\", \"Header 2\"),\n",
    "    (\"###\", \"Header 3\"),\n",
    "]\n",
    "\n",
    "markdown_splitter = MarkdownHeaderTextSplitter(headers_to_split_on)\n",
    "md_header_splits = markdown_splitter.split_text(markdown_document)\n",
    "md_header_splits"
   ]
  },
  {
   "cell_type": "code",
   "execution_count": 65,
   "id": "2603a41b",
   "metadata": {},
   "outputs": [
    {
     "name": "stdout",
     "output_type": "stream",
     "text": [
      "# Foo\n",
      "\n",
      " Hi this is Jim \n",
      "\n",
      " ## Boo \n",
      "\n",
      " Hi this is Lance \n",
      "\n",
      " # Baz\n",
      "\n",
      " Hi this is Molly\n"
     ]
    }
   ],
   "source": [
    "print(\"# Foo\\n\\n Hi this is Jim \\n\\n ## Boo \\n\\n Hi this is Lance \\n\\n # Baz\\n\\n Hi this is Molly\")"
   ]
  },
  {
   "cell_type": "code",
   "execution_count": 64,
   "id": "713bbb40",
   "metadata": {},
   "outputs": [
    {
     "name": "stdout",
     "output_type": "stream",
     "text": [
      "page_content='Hi this is Jim' metadata={'Header 1': 'Foo'}\n",
      "**********\n",
      "page_content='Hi this is Lance' metadata={'Header 1': 'Foo', 'Header 2': 'Boo'}\n",
      "**********\n",
      "page_content='Hi this is Molly' metadata={'Header 1': 'Baz'}\n",
      "**********\n"
     ]
    }
   ],
   "source": [
    "# markdown_document = \"# 1.\\n\\n Heading 1 some content for test ## 1.1\\n\\n Heading 1.1\\n\\n some content for test ## 1.2\\n\\n Heading 1.2\\n\\n some content for test # 2.\\n\\n Heading 2\\n\\n some content for test ## Heading 1.1\\n\\n some content for test\"\n",
    "\n",
    "markdown_document = \"# Foo\\n\\n Hi this is Jim \\n\\n ## Boo \\n\\n Hi this is Lance \\n\\n # Baz\\n\\n Hi this is Molly\"\n",
    "\n",
    "\n",
    "headers_to_split_on = [\n",
    "    (\"#\", \"Header 1\"),\n",
    "    (\"##\", \"Header 2\"),\n",
    "    \n",
    "]\n",
    "\n",
    "markdown_splitter = MarkdownHeaderTextSplitter(headers_to_split_on, return_each_line=True)\n",
    "md_header_splits = markdown_splitter.split_text(markdown_document)\n",
    "md_header_splits\n",
    "\n",
    "for split in md_header_splits:\n",
    "    print(split)\n",
    "    print(\"*\"*10)"
   ]
  },
  {
   "attachments": {
    "image.png": {
     "image/png": "[encoded data removed]"
    }
   },
   "cell_type": "markdown",
   "id": "5f0be2e8",
   "metadata": {},
   "source": [
    "![image.png](attachment:image.png)"
   ]
  },
  {
   "cell_type": "markdown",
   "id": "236397c8",
   "metadata": {},
   "source": [
    "#### Semantic Chunking"
   ]
  },
  {
   "cell_type": "code",
   "execution_count": 67,
   "id": "52b3ea33",
   "metadata": {},
   "outputs": [
    {
     "name": "stdout",
     "output_type": "stream",
     "text": [
      "\u001b[2K✔ Success! Locking packages...\n",
      "\u001b[2K\u001b[32m⠙\u001b[0m Locking packages...\n",
      "\u001b[1A\u001b[2K\u001b[?25lBuilding requirements...\n",
      "\u001b[2KResolving dependencies....\n",
      "\u001b[2K✔ Success! Locking packages...\n",
      "\u001b[2K\u001b[32m⠇\u001b[0m Locking packages...\n",
      "\u001b[1A\u001b[2KTo activate this project's virtualenv, run \u001b[33mpipenv shell\u001b[0m.\n",
      "Alternatively, run a command inside the virtualenv with \u001b[33mpipenv run\u001b[0m.\n",
      "\u001b[1mInstalling dependencies from Pipfile.lock \u001b[0m\u001b[1;39m(1f8aea)...\u001b[0m\n",
      "\u001b[32mAll dependencies are now up-to-date!\u001b[0m\n",
      "\u001b[1mInstalling dependencies from Pipfile.lock \u001b[0m\u001b[1;39m(1f8aea)...\u001b[0m\n"
     ]
    }
   ],
   "source": [
    "!pipenv install langchain_experimental langchain_openai"
   ]
  },
  {
   "cell_type": "code",
   "execution_count": 73,
   "id": "e3d79380",
   "metadata": {},
   "outputs": [
    {
     "data": {
      "text/plain": [
       "True"
      ]
     },
     "execution_count": 73,
     "metadata": {},
     "output_type": "execute_result"
    }
   ],
   "source": [
    "from dotenv import load_dotenv\n",
    "from os import getenv\n",
    "\n",
    "load_dotenv()"
   ]
  },
  {
   "cell_type": "code",
   "execution_count": 74,
   "id": "9ecd70ca",
   "metadata": {},
   "outputs": [],
   "source": [
    "from langchain_openai.embeddings import AzureOpenAIEmbeddings"
   ]
  },
  {
   "cell_type": "code",
   "execution_count": 75,
   "id": "f1edaf05",
   "metadata": {},
   "outputs": [],
   "source": [
    "embeddings = AzureOpenAIEmbeddings(model=getenv(\"AZURE_OPENAI_EMBEDDINGS_DEPLOYMENT_NAME\"))"
   ]
  },
  {
   "cell_type": "code",
   "execution_count": 76,
   "id": "d3fe4280",
   "metadata": {},
   "outputs": [
    {
     "data": {
      "text/plain": [
       "1536"
      ]
     },
     "execution_count": 76,
     "metadata": {},
     "output_type": "execute_result"
    }
   ],
   "source": [
    "len(embeddings.embed_query(\"Hi\"))"
   ]
  },
  {
   "cell_type": "code",
   "execution_count": 77,
   "id": "9f1dbc86",
   "metadata": {},
   "outputs": [],
   "source": [
    "from langchain_experimental.text_splitter import SemanticChunker"
   ]
  },
  {
   "cell_type": "code",
   "execution_count": 78,
   "id": "b51c590f",
   "metadata": {},
   "outputs": [],
   "source": [
    "text_splitter = SemanticChunker(embeddings)"
   ]
  },
  {
   "cell_type": "code",
   "execution_count": 79,
   "id": "070d461e",
   "metadata": {},
   "outputs": [],
   "source": [
    "docs = text_splitter.create_documents(texts=[context])"
   ]
  },
  {
   "cell_type": "code",
   "execution_count": 80,
   "id": "2d8abe8f",
   "metadata": {},
   "outputs": [
    {
     "data": {
      "text/plain": [
       "3"
      ]
     },
     "execution_count": 80,
     "metadata": {},
     "output_type": "execute_result"
    }
   ],
   "source": [
    "len(docs)"
   ]
  },
  {
   "cell_type": "code",
   "execution_count": 82,
   "id": "988f9793",
   "metadata": {},
   "outputs": [
    {
     "name": "stdout",
     "output_type": "stream",
     "text": [
      "\n",
      "Nosy Komba (Malagasy pronunciation: [nusʲ ˈkuᵐba]; lit. 'island of lemurs'), also known as Nosy Ambariovato, is a small volcanic island in Madagascar, situated between the island of Nosy Be and the northwestern coast of the main island of Madagascar. Roughly circular, it rises sharply towards a plateau and the summit of Antaninaombi at the center of the island. Administered as an arrondissement of the unitary commune and district of Nosy-Be within Diana Region, the island is divided into five fokontany (villages), with Ampangorina as the main village and administrative center. The population is mainly restricted to the northern half of the island.\n"
     ]
    }
   ],
   "source": [
    "print(docs[0].page_content)"
   ]
  },
  {
   "cell_type": "markdown",
   "id": "974997be",
   "metadata": {},
   "source": [
    "Percentile split"
   ]
  },
  {
   "cell_type": "code",
   "execution_count": 83,
   "id": "825fe975",
   "metadata": {},
   "outputs": [
    {
     "name": "stdout",
     "output_type": "stream",
     "text": [
      "\n",
      "Nosy Komba (Malagasy pronunciation: [nusʲ ˈkuᵐba]; lit. 'island of lemurs'), also known as Nosy Ambariovato, is a small volcanic island in Madagascar, situated between the island of Nosy Be and the northwestern coast of the main island of Madagascar. Roughly circular, it rises sharply towards a plateau and the summit of Antaninaombi at the center of the island. Administered as an arrondissement of the unitary commune and district of Nosy-Be within Diana Region, the island is divided into five fokontany (villages), with Ampangorina as the main village and administrative center. The population is mainly restricted to the northern half of the island.\n"
     ]
    }
   ],
   "source": [
    "text_splitter = SemanticChunker(\n",
    "    embeddings, breakpoint_threshold_type=\"percentile\"\n",
    ")\n",
    "docs = text_splitter.create_documents(texts=[context])\n",
    "print(docs[0].page_content)"
   ]
  },
  {
   "cell_type": "markdown",
   "id": "7d813cd3",
   "metadata": {},
   "source": [
    "More on other [criteria](https://python.langchain.com/docs/how_to/semantic-chunker/) for splitting"
   ]
  }
 ],
 "metadata": {
  "kernelspec": {
   "display_name": "learning-bHz_lsOL",
   "language": "python",
   "name": "python3"
  },
  "language_info": {
   "codemirror_mode": {
    "name": "ipython",
    "version": 3
   },
   "file_extension": ".py",
   "mimetype": "text/x-python",
   "name": "python",
   "nbconvert_exporter": "python",
   "pygments_lexer": "ipython3",
   "version": "3.10.5"
  }
 },
 "nbformat": 4,
 "nbformat_minor": 5
}
