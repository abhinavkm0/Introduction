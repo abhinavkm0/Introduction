{
 "cells": [
  {
   "cell_type": "code",
   "execution_count": 5,
   "id": "2911522e",
   "metadata": {},
   "outputs": [
    {
     "data": {
      "text/plain": [
       "True"
      ]
     },
     "execution_count": 5,
     "metadata": {},
     "output_type": "execute_result"
    }
   ],
   "source": [
    "from pinecone.grpc import PineconeGRPC as Pinecone\n",
    "from dotenv import load_dotenv\n",
    "from os import getenv\n",
    "\n",
    "\n",
    "load_dotenv()"
   ]
  },
  {
   "cell_type": "code",
   "execution_count": 6,
   "id": "0233c3fa",
   "metadata": {},
   "outputs": [],
   "source": [
    "pc = Pinecone(api_key=getenv(\"PINECONE_API_KEY\"))\n",
    "\n",
    "index_md = pc.Index(getenv(\"INDEX_NAME_MD\"))\n",
    "index_normal = pc.Index(getenv(\"INDEX_NAME_NORMAL\"))"
   ]
  },
  {
   "cell_type": "code",
   "execution_count": 9,
   "id": "dd623639",
   "metadata": {},
   "outputs": [],
   "source": [
    "from openai import AzureOpenAI\n",
    "\n",
    "embedding_deployment = \"text-embedding-3-large\"\n",
    "\n",
    "client = AzureOpenAI(\n",
    "    api_key=getenv(\"AZURE_OPENAI_API_KEY\"),\n",
    "    azure_endpoint=getenv(\"AZURE_OPENAI_ENDPOINT\"),\n",
    "    api_version=getenv(\"AZURE_OPENAI_API_VERSION\")\n",
    ")\n"
   ]
  },
  {
   "cell_type": "code",
   "execution_count": 10,
   "id": "99b725ac",
   "metadata": {},
   "outputs": [],
   "source": [
    "def convert_text_to_embedding(text: str) -> list:\n",
    "    \"\"\"\n",
    "    Convert text to an embedding vector using Azure OpenAI.\n",
    "\n",
    "    Args:\n",
    "        text (str): Text to convert to an embedding.\n",
    "\n",
    "    Returns:\n",
    "        List[float]: Embedding vector for the query.\n",
    "    \"\"\"\n",
    "    query_embedding = (\n",
    "        client.embeddings.create(\n",
    "            model=embedding_deployment,\n",
    "            input=text,\n",
    "            dimensions=3072,\n",
    "        )\n",
    "        .data[0]\n",
    "        .embedding\n",
    "    )\n",
    "    return query_embedding"
   ]
  },
  {
   "cell_type": "code",
   "execution_count": 11,
   "id": "037ec06c",
   "metadata": {},
   "outputs": [
    {
     "data": {
      "text/plain": [
       "3072"
      ]
     },
     "execution_count": 11,
     "metadata": {},
     "output_type": "execute_result"
    }
   ],
   "source": [
    "len(convert_text_to_embedding(text=\"Hi\"))"
   ]
  },
  {
   "cell_type": "code",
   "execution_count": 13,
   "id": "882bbaa9",
   "metadata": {},
   "outputs": [],
   "source": [
    "def get_response(query: str, use_md: bool = False):\n",
    "    embeddings = convert_text_to_embedding(text=query)\n",
    "    \n",
    "    if use_md:\n",
    "        index = index_md\n",
    "    else:\n",
    "        index = index_normal\n",
    "    \n",
    "    response = index.query(\n",
    "                vector=embeddings,\n",
    "                top_k=10,\n",
    "                namespace=\"crawl-content\",\n",
    "                include_metadata=True,\n",
    "                filter= {\"priority\": {\"$eq\": 2}},\n",
    "                timeout=30,\n",
    "            )\n",
    "    return response"
   ]
  },
  {
   "cell_type": "code",
   "execution_count": 61,
   "id": "6b6fbe43",
   "metadata": {},
   "outputs": [],
   "source": [
    "from IPython.display import HTML, Markdown"
   ]
  },
  {
   "cell_type": "code",
   "execution_count": 64,
   "id": "65c568bb",
   "metadata": {},
   "outputs": [
    {
     "data": {
      "text/markdown": [
       "### Q: Who is the CEO (Markdown)"
      ],
      "text/plain": [
       "<IPython.core.display.Markdown object>"
      ]
     },
     "metadata": {},
     "output_type": "display_data"
    },
    {
     "data": {
      "text/html": [
       "<div style='font-family: Arial, sans-serif;'><h3>Text and Scores</h3><ul style='list-style-type: none;'><li><b>Header 1: Leadership Profiles - Amplity\n",
       "Header 2: Leadership Team\n",
       "Header 3: Chris Baker\n",
       "Header 4: Chief Executive Officer\n",
       "Content: ![Chris Baker](https://cdn.bfldr.com/QO5XXLW2/at/47ns6vnjqsm43p8wrnrsp86/Chris_Baker_MAIN.jpg?format=png&crop=1212%2C1612%2Cx273%2Cy0&width=312&height=415)\n",
       "As CEO and Board member of Amplity, Chris has a history of steering healthcare organizations through significant growth. She has been a C-suite leader for the past decade, having led multiple global teams in the areas of Clinical Research, Data, AI, Sales, and Marketing. She developed her pharmaceutical industry leadership experience while at Parke-Davis and Pfizer. Chris holds an MBA from The University of Chicago’s Booth School of Business and a BS in science from Penn State University, where she played Division 1 volleyball.  \n",
       "---</b>: <span style='color: red;'>0.46</span></li><li><b>Header 1: Leadership Profiles - Amplity\n",
       "Header 2: Leadership Team\n",
       "Header 3: Eric Green\n",
       "Header 4: General Counsel + Chief Compliance Officer\n",
       "Content: ![Eric Green](https://cdn.bfldr.com/QO5XXLW2/at/8kb2z7tzrzcffzx5smk3cr/Eric_Green.jpg?auto=webp&format=png)\n",
       "Eric comes to Amplity with over 2 decades of health law experience and a deep understanding of sales and marketing compliance. He also serves as the Secretary for Amplity’s Board of Directors. Previously, Eric was General Counsel and Chief Compliance Officer at inVentiv Health (now Syneos). He led legal for Quintiles’ (now IQVIA) global commercial and consulting businesses and was senior counsel at GE Healthcare. Over his career, he has negotiated thousands of healthcare-related agreements. Eric’s passion for healthcare is also informed by his own journey as a Stage 4 colon cancer patient and survivor. He holds a law degree with High Honors from Rutgers University School of Law and an MBA from the University of London.  \n",
       "---</b>: <span style='color: red;'>0.39</span></li><li><b>Header 1: Leadership Profiles - Amplity\n",
       "Header 2: Leadership Team\n",
       "Header 3: Erica Smith\n",
       "Header 4: Chief People Officer\n",
       "Content: ![Erica Smith](https://cdn.bfldr.com/QO5XXLW2/at/ncg8bf9m365g5xnm8swnkxg/Erica_Smith_1.png?auto=webp&format=png)\n",
       "As Chief People Officer, Erica leads Amplity’s global people strategy and human resource operations. She brings more than 15 years of human resources strategic partnership and leadership experience to this role, having held senior HR roles at publicly traded and private equity-backed businesses. She is deeply committed to improving organizational effectiveness and creating talent management programs that drive high-performing, engaged cultures. Erica earned her bachelor’s in psychology from Penn State University, and she holds an M.A. in Industrial/Organizational Psychology from West Chester University.  \n",
       "---</b>: <span style='color: red;'>0.38</span></li><li><b>Header 1: Leadership Profiles - Amplity\n",
       "Header 2: Board Members\n",
       "Header 3: Tony Hooper\n",
       "Header 4: Board Member\n",
       "Content: ![Tony Hooper](https://cdn.bfldr.com/QO5XXLW2/at/f76hm3vqf7mccsh3p4s/Tony_Hooper.jpg?auto=webp&format=png)\n",
       "Tony is a highly experienced commercial life sciences executive with over 25 years in leadership roles at major biotech and pharmaceutical companies. His expertise includes corporate governance, global operations, and strategic decision-making. Previously, Tony served as Executive Vice President of Global Commercial Operations at Amgen and led Bristol-Myers Squibb's operations across the Americas, Europe, the Middle East, and Africa. He was also the Assistant Vice President of Global Marketing at Wyeth Laboratories. Tony serves on the boards of MannKind Corporation, BeiGene Ltd., and Lykan Biosciences. He holds both a JD and MBA from the University of South Africa.  \n",
       "---</b>: <span style='color: red;'>0.38</span></li><li><b>Header 1: Leadership Profiles - Amplity\n",
       "Header 2: Leadership Team\n",
       "Header 3: Pravin Wilfred\n",
       "Header 4: Chief Technology Officer\n",
       "Content: ![Pravin Wilfred](https://cdn.bfldr.com/QO5XXLW2/at/rsjrn38cs8wh4k2f48ftf6/Pravin_Wilfred_1.png?auto=webp&format=png)\n",
       "As Chief Technology Officer at Amplity, Pravin drives AI transformation, infrastructure modernization, and operational excellence for private equity-backed organizations. With 25+ years of experience, including 12+ as a CTO, he is a Six Sigma-certified leader with a master’s in engineering. Pravin focuses on enterprise AI solutions, data strategy, machine learning, and product development to craft innovative solutions for clients and internal stakeholders. He emphasizes infrastructure security and building robust frameworks that align with business goals. Known for leading global tech teams and launching ERP systems, Pravin delivers innovation, efficiency, and growth for life sciences and pharma industries.  \n",
       "---</b>: <span style='color: red;'>0.38</span></li><li><b>Header 1: Leadership Profiles - Amplity\n",
       "Header 2: Leadership Team\n",
       "Header 3: Janet Hughes\n",
       "Header 4: Chief Marketing Officer\n",
       "Content: ![Janet Hughes](https://cdn.bfldr.com/QO5XXLW2/at/6t43c8wzft6x32wk82cgb63/Janet_Hughes_1.png?auto=webp&format=png)\n",
       "As the company’s first Chief Marketing Officer, Janet comes to Amplity with 35 years of experience solving marketing and communications challenges for pharmaceutical companies, healthcare providers, payers, patients, and digital health companies. She works closely with the company’s business leaders to design and deliver best-in-class B2B branding, demand generation, corporate communications, and marketing operations. Janet has her MBA from The University of Chicago’s Booth School of Business and a BS in Radio, Television, and Film from Northwestern University.  \n",
       "---</b>: <span style='color: red;'>0.38</span></li><li><b>Header 1: Leadership Profiles - Amplity\n",
       "Header 2: Leadership Team\n",
       "Header 3: Christina DiBiase\n",
       "Header 4: Chief Growth Officer\n",
       "Content: ![Christina DiBiase](https://cdn.bfldr.com/QO5XXLW2/at/kq9brs4nhw2mqj382gfsx88/Christine_DiBase_office.jpg?format=jpg&crop=575%2C694%2Cx95%2Cy66)\n",
       "As the company’s Chief Growth Officer, Christina oversees all sales and partnership agreements for Amplity’s product portfolio, including our contract teams and outsourced services. Christina brings 25+ years of pharmaceutical experience to this role, having successfully led sales and marketing teams at Pfizer and Johnson & Johnson. By working closely with the heads of Amplity business leaders and managing our executives, Christina is responsible for fostering client relationships to advance sustainable growth and innovation.  \n",
       "---</b>: <span style='color: red;'>0.38</span></li><li><b>Header 1: Leadership Profiles - Amplity\n",
       "Header 2: Leadership Team\n",
       "Header 3: Brian O'Donnell\n",
       "Header 4: President of Contract Sales Teams\n",
       "Content: ![Brian O'Donnell](https://cdn.bfldr.com/QO5XXLW2/at/qjwgsgx943vm3h5n6kqw7z/Brian_O_Donnell_2.png?auto=webp&format=png)\n",
       "With over 25 years pharma experience, Brian oversees the portfolio of our US contract sales teams and other sales services. He is a strategic advisor to our clients and is responsible for developing, building, and executing Amplity’s full range of deployment strategies, including blended sales models, precision medicine experts, and market access and reimbursement teams. Brian is passionate about people — patients, providers, partners, and the outstanding colleagues who deliver winning programs that ultimately serve the patients who rely on the therapies we represent.  \n",
       "---</b>: <span style='color: red;'>0.37</span></li><li><b>Header 1: Leadership Profiles - Amplity\n",
       "Header 2: Leadership Team\n",
       "Header 3: Lonny Schilt\n",
       "Header 4: Head of Business Intelligence + Operations Excellence\n",
       "Content: ![Lonny Schilt](https://cdn.bfldr.com/QO5XXLW2/at/vfjwkf5jgx5z2x7xgx7fx96/Lonny_Schilt_1.png?auto=webp&format=png)\n",
       "Lonny is a veteran pharmaceutical and biotech executive. As a key leader at Amplity, he oversees market intelligence, sales operations, and strategic project management initiatives, ensuring our client programs deliver the highest return on investment in the industry. His leadership also extends to data and analytics efforts, driving actionable insights and optimizing outcomes. Before joining Amplity, Lonny spent over 20 years at Merck, where he held progressively senior roles, leading high-performing sales teams and business operations groups. He holds a bachelor’s degree in business administration from the University of Wisconsin-Madison and an MBA from the Kelley School of Business at Indiana University.  \n",
       "---</b>: <span style='color: red;'>0.37</span></li><li><b>Header 1: Leadership Profiles - Amplity\n",
       "Header 2: Board Members\n",
       "Header 3: Anup Gupta\n",
       "Header 4: Board Member\n",
       "Content: ![Anup Gupta](https://cdn.bfldr.com/QO5XXLW2/at/47jrrc4rkkwcrbnf9tq53xq/Anup-Gupta-e1736274346790.png?auto=webp&format=png)\n",
       "Anup brings 30 years of global experience in finance, strategy, operations, and M&A to the Amplity board. He is a proven leader with expertise in driving international efficiencies, fostering entrepreneurial thinking, and leading high-performing teams. He has held C-level roles at organizations such as Avara Pharmaceutical Services, Analytical Wizards, DRG, Parexel, and Cambrex, where he helped scale operations and execute acquisitions across multiple continents. Anup’s deep healthcare expertise spans over 50 countries, with a track record of supporting global operations. He holds a BS in computer and information sciences from The National University of Singapore, and an MBA from The Wharton School at the University of Pennsylvania, where he was a Palmer Scholar.  \n",
       "---</b>: <span style='color: red;'>0.36</span></li></ul></div>"
      ],
      "text/plain": [
       "<IPython.core.display.HTML object>"
      ]
     },
     "metadata": {},
     "output_type": "display_data"
    },
    {
     "data": {
      "text/markdown": [
       "### Q: Who is the CEO (Normal)"
      ],
      "text/plain": [
       "<IPython.core.display.Markdown object>"
      ]
     },
     "metadata": {},
     "output_type": "display_data"
    },
    {
     "data": {
      "text/html": [
       "<div style='font-family: Arial, sans-serif;'><h3>Text and Scores</h3><ul style='list-style-type: none;'><li><b>the high-touch, high-availability, customer-first approach that we have built our reputation on. We follow you where you dream to go. ---  Leadership Team  Chris Baker Chief Executive Officer!Chris Bakerhttpscdn.bfldr.comQO5XXLW2at47ns6vnjqsm43p8wrnrsp86Chris_Baker_MAIN.jpg?formatpngcrop12122C16122Cx2732Cy0width312height415 As CEO and Board member of Amplity, Chris has a history of steering</b>: <span style='color: orange;'>0.52</span></li><li><b>Bakerhttpscdn.bfldr.comQO5XXLW2at47ns6vnjqsm43p8wrnrsp86Chris_Baker_MAIN.jpg?formatpngcrop12122C16122Cx2732Cy0width312height415 As CEO and Board member of Amplity, Chris has a history of steering healthcare organizations through significant growth. She has been a C-suite leader for the past decade, having led multiple global teams in the areas of Clinical Research, Data, AI, Sales, and Marketing.</b>: <span style='color: red;'>0.45</span></li><li><b>Every partner gets our A-team  leaders in their respective areas of pharmaceutical industry focus. All are equally dedicated to the high-touch, high-availability, customer-first approach that we have built our reputation on. We follow you where you dream to go. ---  Leadership Team  Chris Baker Chief Executive Officer!Chris</b>: <span style='color: red;'>0.44</span></li><li><b>patients, providers, partners, and the outstanding colleagues who deliver winning programs that ultimately serve the patients who rely on the therapies we represent. ---  Christina DiBiase Chief Growth Officer!Christina DiBiasehttpscdn.bfldr.comQO5XXLW2atkq9brs4nhw2mqj382gfsx88Christine_DiBase_office.jpg?formatjpgcrop5752C6942Cx952Cy66 As the companys Chief Growth Officer, Christina oversees all</b>: <span style='color: red;'>0.42</span></li><li><b>tablet.httpscdn.bfldr.comQO5XXLW2atftpwn7mnbjcfx4rhmkks8FLFS_3.png?autowebpformatjpg ---  Who Youll Be Working With  Our Senior Leaders Are With You Every Step of the Way!Archie Robinson Headshothttpsamplity.comwp-contentuploads202503Archie-Robinson-2.png!Headshothttpsamplity.comwp-contentuploadselementorthumbs12-undefined-HeadshotPro-e1736274162389-r2rbw94plmgep8fvfpidklvlgiyqp2hko7j6d8njw8.png</b>: <span style='color: red;'>0.42</span></li><li><b>---  Erica Smith Chief People Officer!Erica Smithhttpscdn.bfldr.comQO5XXLW2atncg8bf9m365g5xnm8swnkxgErica_Smith_1.png?autowebpformatpng As Chief People Officer, Erica leads Amplitys global people strategy and human resource operations. She brings more than 15 years of human resources strategic partnership and leadership experience to this role, having held senior HR roles at publicly traded and</b>: <span style='color: red;'>0.40</span></li><li><b>Hugheshttpscdn.bfldr.comQO5XXLW2at6t43c8wzft6x32wk82cgb63Janet_Hughes_1.png?autowebpformatpng As the companys first Chief Marketing Officer, Janet comes to Amplity with 35 years of experience solving marketing  communications challenges for pharmaceutical companies, healthcare providers, payers, patients, and digital health companies. She works closely with the companys business leaders to design</b>: <span style='color: red;'>0.40</span></li><li><b>Officer!Pravin Wilfredhttpscdn.bfldr.comQO5XXLW2atrsjrn38cs8wh4k2f48ftf6Pravin_Wilfred_1.png?autowebpformatpng As Chief Technology Officer at Amplity, Pravin drives AI transformation, infrastructure modernization, and operational excellence for private equity-backed organizations. With 25 years of experience, including 12 as a CTO, he is a Six Sigma-certified leader with a masters in engineering.</b>: <span style='color: red;'>0.39</span></li><li><b>Commercial Operations at Amgen and led Bristol-Myers Squibbs operations across the Americas, Europe, the Middle East, and Africa. He was also the Assistant Vice President of Global Marketing at Wyeth Laboratories. Tony serves on the boards of MannKind Corporation, BeiGene Ltd., and Lykan Biosciences. He holds both a JD and MBA from the University of South Africa. ---  Our People  Expertise Is Our</b>: <span style='color: red;'>0.39</span></li><li><b>Hooperhttpscdn.bfldr.comQO5XXLW2atf76hm3vqf7mccsh3p4sTony_Hooper.jpg?autowebpformatpng Tony is a highly experienced commercial life sciences executive with over 25 years in leadership roles at major biotech and pharmaceutical companies. His expertise includes corporate governance, global operations, and strategic decision-making. Previously, Tony served as Executive Vice President of Global</b>: <span style='color: red;'>0.39</span></li></ul></div>"
      ],
      "text/plain": [
       "<IPython.core.display.HTML object>"
      ]
     },
     "metadata": {},
     "output_type": "display_data"
    }
   ],
   "source": [
    "query = \"Who is the CEO\"\n",
    "\n",
    "md_resp = get_response(query=query, use_md=True)\n",
    "norm_resp = get_response(query=query, use_md=False)\n",
    "md_results = results = [\n",
    "            {\"metadata\": match.get(\"metadata\", {}), \"score\": match.get(\"score\")}\n",
    "            for match in md_resp.matches\n",
    "            if match.get(\"score\")\n",
    "        ]\n",
    "\n",
    "norm_results = results = [\n",
    "            {\"metadata\": match.get(\"metadata\", {}), \"score\": match.get(\"score\")}\n",
    "            for match in norm_resp.matches\n",
    "            if match.get(\"score\")\n",
    "        ]\n",
    "\n",
    "# Create HTML string\n",
    "html_content = \"<div style='font-family: Arial, sans-serif;'>\"\n",
    "html_content += \"<h3>Text and Scores</h3>\"\n",
    "html_content += \"<ul style='list-style-type: none;'>\"\n",
    "\n",
    "for item in md_results:\n",
    "    element = item[\"metadata\"]\n",
    "    score = item['score']\n",
    "    # Color based on score\n",
    "    color = 'green' if score >= 0.60 else 'orange' if score >= 0.5 else 'red'\n",
    "    html_content += f\"<li><b>{element['chunk_text']}</b>: <span style='color: {color};'>{score:.2f}</span></li>\"\n",
    "html_content += \"</ul></div>\"\n",
    "\n",
    "display(Markdown(f\"### Q: {query} (Markdown)\"))\n",
    "# Display the HTML\n",
    "display(HTML(html_content))\n",
    "\n",
    "# Create HTML string\n",
    "html_content = \"<div style='font-family: Arial, sans-serif;'>\"\n",
    "html_content += \"<h3>Text and Scores</h3>\"\n",
    "html_content += \"<ul style='list-style-type: none;'>\"\n",
    "\n",
    "for item in norm_results:\n",
    "    element = item[\"metadata\"]\n",
    "    score = item['score']\n",
    "    # Color based on score\n",
    "    color = 'green' if score >= 0.60 else 'orange' if score >= 0.5 else 'red'\n",
    "    html_content += f\"<li><b>{element['chunk_text']}</b>: <span style='color: {color};'>{score:.2f}</span></li>\"\n",
    "html_content += \"</ul></div>\"\n",
    "\n",
    "display(Markdown(f\"### Q: {query} (Normal)\"))\n",
    "# Display the HTML\n",
    "display(HTML(html_content))"
   ]
  },
  {
   "cell_type": "code",
   "execution_count": 65,
   "id": "0af3b17f",
   "metadata": {},
   "outputs": [
    {
     "data": {
      "text/markdown": [
       "### Q: Tell me about the database, is it HIPAA compliant (Markdown)"
      ],
      "text/plain": [
       "<IPython.core.display.Markdown object>"
      ]
     },
     "metadata": {},
     "output_type": "display_data"
    },
    {
     "data": {
      "text/html": [
       "<div style='font-family: Arial, sans-serif;'><h3>Text and Scores</h3><ul style='list-style-type: none;'><li><b>Header 1: Intel: AI-Driven Qualitative Data For Pharma - Amplity\n",
       "Header 2: Understand Provider Behavior\n",
       "Header 3: Our data is the next best thing to being in the room during doctor-patient visits.\n",
       "Header 4: HIPAA-Compliant Database\n",
       "Content: A privacy-first, HIPAA-compliant database that delivers secure, anonymized insights—giving you the critical data you need with absolute confidence.  \n",
       "![HIPAA-Compliant Database](https://cdn.bfldr.com/QO5XXLW2/at/pfmh3j3q7n26b6rnr9q9r/Layer_2_copy.svg)</b>: <span style='color: orange;'>0.53</span></li><li><b>Header 1: Intel: AI-Driven Qualitative Data For Pharma - Amplity\n",
       "Header 2: A Deeper Dive\n",
       "Header 3: Our Proprietary Database + Platform\n",
       "Header 4: AnswerY: Our Proprietary HIPAA-Compliant Database & Platform\n",
       "Content: Refine messaging, enhance HCP engagement, uncover rare disease patients, and more with the most current and most accurate intel on patient-provider interactions.  \n",
       "Amplity has created an unparalleled HIPAA-compliant database and platform that reveals raw and unfiltered interactions between HCPs and patients. Our text-based conversation reports contain detailed patient visit records that capture rich context through the healthcare provider’s own words.  \n",
       "**AnswerY** delivers provider- and patient-level insights and data that help pinpoint HCPs treating patients earlier in their journey, maps comprehensive patient journeys, and uncovers the why behind treatment adjustments, assessments, and plans. Identify patient symptoms, discover anomalies, side effects, and more for faster treatment and improved patient outcomes.</b>: <span style='color: red;'>0.42</span></li><li><b>Header 1: Intel: AI-Driven Qualitative Data For Pharma - Amplity\n",
       "Header 2: A Deeper Dive\n",
       "Header 3: Our Proprietary Database + Platform\n",
       "Header 4: Key Features\n",
       "Content: - **31MM Patients And Counting**\n",
       "Refreshed every 30 days (as opposed to the likely alternative of 90 days with paid claims data).  \n",
       "- **The AnswerY Difference**\n",
       "Our AI-driven qualitative data feeds into our easy-to-navigate, cutting-edge AnswerY platform. Interpret and filter database results leveraging over 25 modules including discontinuation reasons, patient care pathways, comorbidities, drug insights, etc.  \n",
       "- Customize dashboards for cohort analytics.\n",
       "- Download trigger reports.\n",
       "- Map patient journeys.\n",
       "- Understand provider behavior.  \n",
       "---</b>: <span style='color: red;'>0.40</span></li><li><b>Header 1: Intel: AI-Driven Qualitative Data For Pharma - Amplity\n",
       "Header 2: Amplity Intel\n",
       "Header 3: AI Insights For Pharma\n",
       "Content: Real-time provider- and patient-level insights powered by an AI-driven, HIPAA-compliant database & platform — **AnswerY™**  \n",
       "![AI Insights](https://amplity.com/wp-content/uploads/2025/03/AdobeStock_211149907-1.png)  \n",
       "---</b>: <span style='color: red;'>0.35</span></li><li><b>Header 1: Intel: AI-Driven Qualitative Data For Pharma - Amplity\n",
       "Header 2: Understand Provider Behavior\n",
       "Header 3: Our data is the next best thing to being in the room during doctor-patient visits.\n",
       "Header 4: Exclusive Intel Straight From The Source\n",
       "Content: Powered by real patient-provider interactions, our AI-driven qualitative database & platform offers access to HCP target lists for clinical trials and product adoption, and HEOR studies.  \n",
       "---</b>: <span style='color: red;'>0.34</span></li><li><b>Header 1: Intel: AI-Driven Qualitative Data For Pharma - Amplity\n",
       "Header 2: More Than Just The Data\n",
       "Header 3: The Complete Package\n",
       "Header 4: The Database\n",
       "Content: Unlock a new vantage point with **AnswerY**. Get the competitive edge with rich, explanatory data that gives you the who + why for a critical up-to-date full picture view.</b>: <span style='color: red;'>0.33</span></li><li><b>Header 1: Who We Are: Dedicated Life Science Experts - Amplity\n",
       "Header 2: We AnswerY\n",
       "Header 3: Powered by AI\n",
       "Content: At Amplity, our cutting-edge tech and data tools work to power real outcomes for us, our partners, and their patients.  \n",
       "Our one-of-a-kind qualitative database is a trove of hidden insights into why treatments are started, stopped, and switched.  \n",
       "Our innovative platform employs AI to peel back the layers of over 70 million medical records — powering better care, increased sales, and more informed decisions.  \n",
       "This capability supports our results across all Amplity services and offerings.  \n",
       "![Man in a beige suit holding a tablet.](https://cdn.bfldr.com/QO5XXLW2/at/ftpwn7mnbjcfx4rhmkks8/FLFS_3.png?auto=webp&format=jpg)  \n",
       "---</b>: <span style='color: red;'>0.30</span></li><li><b>Header 1: Intel: AI-Driven Qualitative Data For Pharma - Amplity\n",
       "Header 2: Understand Provider Behavior\n",
       "Header 3: Our data is the next best thing to being in the room during doctor-patient visits.\n",
       "Content: With qualitative, provider- and patient-level insights from real patient and doctor interactions, we cut through the marketplace noise so everyone — sales, marketing, medical, and research — can truly understand provider behavior.  \n",
       "Our data and its supporting tools give us and you the ability to get to a concrete “why” behind real-time prescriber and patient decisions. As a result, we are able to distill targeted next-steps and maneuver with precision and agility. Amplity’s transformational healthcare data and the navigational tools we employ and provide allow for the most-informed strategies across all pharma needs.  \n",
       "![Provider Behavior](https://cdn.bfldr.com/QO5XXLW2/at/67sjtntcc28ph9gkw6f5fr/Layer_2-1_copy.svg)</b>: <span style='color: red;'>0.29</span></li><li><b>Header 1: Intel: AI-Driven Qualitative Data For Pharma - Amplity\n",
       "Header 2: Understand Provider Behavior\n",
       "Header 3: Our data is the next best thing to being in the room during doctor-patient visits.\n",
       "Header 4: Full-Service Data\n",
       "Content: From sales to marketing to medical affairs — our data fuels all aspects of our pharma strategies and services. Let it do the same for you.  \n",
       "![Full-Service Data](https://cdn.bfldr.com/QO5XXLW2/at/sfp7hsks2h5ckwfr6qnqt47j/Group_1000005942_copy.svg)</b>: <span style='color: red;'>0.29</span></li><li><b>Header 1: Intel: AI-Driven Qualitative Data For Pharma - Amplity\n",
       "Header 2: Case Studies\n",
       "Header 3: Unmatched Results\n",
       "Header 4: AnswerY Reveals Treatment “Whys”\n",
       "Content: Rich database provides nuanced intel to enhance RWE research and NLP + ML models.\n",
       "[Read More](https://amplity.com/case-study/answery-uncovers-treatment-whys)</b>: <span style='color: red;'>0.29</span></li></ul></div>"
      ],
      "text/plain": [
       "<IPython.core.display.HTML object>"
      ]
     },
     "metadata": {},
     "output_type": "display_data"
    },
    {
     "data": {
      "text/markdown": [
       "### Q: Tell me about the database, is it HIPAA compliant (Normal)"
      ],
      "text/plain": [
       "<IPython.core.display.Markdown object>"
      ]
     },
     "metadata": {},
     "output_type": "display_data"
    },
    {
     "data": {
      "text/html": [
       "<div style='font-family: Arial, sans-serif;'><h3>Text and Scores</h3><ul style='list-style-type: none;'><li><b>all pharma needs.!Provider Behaviorhttpscdn.bfldr.comQO5XXLW2at67sjtntcc28ph9gkw6f5frLayer_2-1_copy.svg  HIPAA-Compliant Database A privacy-first, HIPAA-compliant database that delivers secure, anonymized insightsgiving you the critical data you need with absolute confidence.!HIPAA Databasehttpscdn.bfldr.comQO5XXLW2atpfmh3j3q7n26b6rnr9q9rLayer_2_copy.svg  Full-Service Data From sales to marketing</b>: <span style='color: green;'>0.60</span></li><li><b>---  A Deeper Dive  Our Proprietary Database  Platform  AnswerY Our Proprietary HIPAA-Compliant Database  Platform Refine messaging, enhance HCP engagement, uncover rare disease patients, and more with the most current and most accurate intel on patient-provider interactions. Amplity has created an unparalleled HIPAA-compliant database and platform that reveals raw and unfiltered interactions</b>: <span style='color: orange;'>0.53</span></li><li><b>insightsgiving you the critical data you need with absolute confidence.!HIPAA Databasehttpscdn.bfldr.comQO5XXLW2atpfmh3j3q7n26b6rnr9q9rLayer_2_copy.svg  Full-Service Data From sales to marketing to medical affairs  our data fuels all aspects of our pharma strategies and services. Let it do the same for you.!Full-Service</b>: <span style='color: red;'>0.50</span></li><li><b>language processing to save time  energy navigating the nuances of our data.  The Support A data team to guide you. Our experts seamlessly integrate meaningful insights into every aspect of our partnerships. ---  A Deeper Dive  Our Proprietary Database  Platform  AnswerY Our Proprietary HIPAA-Compliant Database  Platform Refine messaging, enhance HCP engagement, uncover rare disease patients, and</b>: <span style='color: red;'>0.45</span></li><li><b>with the most current and most accurate intel on patient-provider interactions. Amplity has created an unparalleled HIPAA-compliant database and platform that reveals raw and unfiltered interactions between HCPs and patients. Our text-based conversation reports contain detailed patient visit records that capture rich context through the healthcare providers own words. AnswerY delivers provider-</b>: <span style='color: red;'>0.43</span></li><li><b>distill targeted next-steps and maneuver with precision and agility. Amplitys transformational healthcare data and the navigational tools we employ and provide allow for the most-informed strategies across all pharma needs.!Provider Behaviorhttpscdn.bfldr.comQO5XXLW2at67sjtntcc28ph9gkw6f5frLayer_2-1_copy.svg  HIPAA-Compliant Database A privacy-first, HIPAA-compliant database that delivers secure,</b>: <span style='color: red;'>0.43</span></li><li><b>Exclusive Intel Straight From The Source Powered by real patient-provider interactions, our AI-driven qualitative database  platform offers access to HCP target lists for clinical trials and product adoption, and HEOR studies. ---  More Than Just The Data  The Complete Package  The Database Unlock a new vantage point with AnswerY. Get the competitive edge with rich, explanatory data that gives</b>: <span style='color: red;'>0.43</span></li><li><b>and their patients. Our one-of-a-kind qualitative database is a trove of hidden insights into why treatments are started, stopped, and switched. Our innovative platform employs AI to peel back the layers of over 70 million medical records  powering better care, increased sales, and more informed decisions. This capability supports our results across all Amplity services and offerings.!Man in a</b>: <span style='color: red;'>0.39</span></li><li><b>markdown  Amplity Intel AI-Driven Qualitative Data For Pharma  AI Insights For Pharma Real-time provider- and patient-level insights powered by an AI-driven, HIPAA-compliant database  platform  AnswerY.!AI Insightshttpsamplity.comwp-contentuploads202503AdobeStock_211149907-1.png ---  Understand Provider Behavior  Our data is the next best thing to being in the room during doctor-patient visits.</b>: <span style='color: red;'>0.37</span></li><li><b>layers of over 70 million medical records  powering better care, increased sales, and more informed decisions. This capability supports our results across all Amplity services and offerings.!Man in a beige suit holding a tablet.httpscdn.bfldr.comQO5XXLW2atftpwn7mnbjcfx4rhmkks8FLFS_3.png?autowebpformatjpg ---  Who Youll Be Working With  Our Senior Leaders Are With You Every Step of the Way!Archie</b>: <span style='color: red;'>0.35</span></li></ul></div>"
      ],
      "text/plain": [
       "<IPython.core.display.HTML object>"
      ]
     },
     "metadata": {},
     "output_type": "display_data"
    }
   ],
   "source": [
    "query = \"Tell me about the database, is it HIPAA compliant\"\n",
    "\n",
    "md_resp = get_response(query=query, use_md=True)\n",
    "norm_resp = get_response(query=query, use_md=False)\n",
    "md_results = results = [\n",
    "            {\"metadata\": match.get(\"metadata\", {}), \"score\": match.get(\"score\")}\n",
    "            for match in md_resp.matches\n",
    "            if match.get(\"score\")\n",
    "        ]\n",
    "\n",
    "norm_results = results = [\n",
    "            {\"metadata\": match.get(\"metadata\", {}), \"score\": match.get(\"score\")}\n",
    "            for match in norm_resp.matches\n",
    "            if match.get(\"score\")\n",
    "        ]\n",
    "\n",
    "# Create HTML string\n",
    "html_content = \"<div style='font-family: Arial, sans-serif;'>\"\n",
    "html_content += \"<h3>Text and Scores</h3>\"\n",
    "html_content += \"<ul style='list-style-type: none;'>\"\n",
    "\n",
    "for item in md_results:\n",
    "    element = item[\"metadata\"]\n",
    "    score = item['score']\n",
    "    # Color based on score\n",
    "    color = 'green' if score >= 0.60 else 'orange' if score >= 0.5 else 'red'\n",
    "    html_content += f\"<li><b>{element['chunk_text']}</b>: <span style='color: {color};'>{score:.2f}</span></li>\"\n",
    "html_content += \"</ul></div>\"\n",
    "\n",
    "display(Markdown(f\"### Q: {query} (Markdown)\"))\n",
    "# Display the HTML\n",
    "display(HTML(html_content))\n",
    "\n",
    "# Create HTML string\n",
    "html_content = \"<div style='font-family: Arial, sans-serif;'>\"\n",
    "html_content += \"<h3>Text and Scores</h3>\"\n",
    "html_content += \"<ul style='list-style-type: none;'>\"\n",
    "\n",
    "for item in norm_results:\n",
    "    element = item[\"metadata\"]\n",
    "    score = item['score']\n",
    "    # Color based on score\n",
    "    color = 'green' if score >= 0.60 else 'orange' if score >= 0.5 else 'red'\n",
    "    html_content += f\"<li><b>{element['chunk_text']}</b>: <span style='color: {color};'>{score:.2f}</span></li>\"\n",
    "html_content += \"</ul></div>\"\n",
    "\n",
    "display(Markdown(f\"### Q: {query} (Normal)\"))\n",
    "# Display the HTML\n",
    "display(HTML(html_content))"
   ]
  },
  {
   "cell_type": "code",
   "execution_count": 67,
   "id": "8a921887",
   "metadata": {},
   "outputs": [
    {
     "data": {
      "text/markdown": [
       "### Q: What is Pravin Wilfred known for (Markdown)"
      ],
      "text/plain": [
       "<IPython.core.display.Markdown object>"
      ]
     },
     "metadata": {},
     "output_type": "display_data"
    },
    {
     "data": {
      "text/html": [
       "<div style='font-family: Arial, sans-serif;'><h3>Text and Scores</h3><ul style='list-style-type: none;'><li><b>Header 1: Leadership Profiles - Amplity\n",
       "Header 2: Leadership Team\n",
       "Header 3: Pravin Wilfred\n",
       "Header 4: Chief Technology Officer\n",
       "Content: ![Pravin Wilfred](https://cdn.bfldr.com/QO5XXLW2/at/rsjrn38cs8wh4k2f48ftf6/Pravin_Wilfred_1.png?auto=webp&format=png)\n",
       "As Chief Technology Officer at Amplity, Pravin drives AI transformation, infrastructure modernization, and operational excellence for private equity-backed organizations. With 25+ years of experience, including 12+ as a CTO, he is a Six Sigma-certified leader with a master’s in engineering. Pravin focuses on enterprise AI solutions, data strategy, machine learning, and product development to craft innovative solutions for clients and internal stakeholders. He emphasizes infrastructure security and building robust frameworks that align with business goals. Known for leading global tech teams and launching ERP systems, Pravin delivers innovation, efficiency, and growth for life sciences and pharma industries.  \n",
       "---</b>: <span style='color: red;'>0.49</span></li><li><b>Header 1: Leadership Profiles - Amplity\n",
       "Header 2: Board Members\n",
       "Header 3: Anup Gupta\n",
       "Header 4: Board Member\n",
       "Content: ![Anup Gupta](https://cdn.bfldr.com/QO5XXLW2/at/47jrrc4rkkwcrbnf9tq53xq/Anup-Gupta-e1736274346790.png?auto=webp&format=png)\n",
       "Anup brings 30 years of global experience in finance, strategy, operations, and M&A to the Amplity board. He is a proven leader with expertise in driving international efficiencies, fostering entrepreneurial thinking, and leading high-performing teams. He has held C-level roles at organizations such as Avara Pharmaceutical Services, Analytical Wizards, DRG, Parexel, and Cambrex, where he helped scale operations and execute acquisitions across multiple continents. Anup’s deep healthcare expertise spans over 50 countries, with a track record of supporting global operations. He holds a BS in computer and information sciences from The National University of Singapore, and an MBA from The Wharton School at the University of Pennsylvania, where he was a Palmer Scholar.  \n",
       "---</b>: <span style='color: red;'>0.21</span></li><li><b>Header 1: Leadership Profiles - Amplity\n",
       "Header 2: Leadership Team\n",
       "Header 3: Lonny Schilt\n",
       "Header 4: Head of Business Intelligence + Operations Excellence\n",
       "Content: ![Lonny Schilt](https://cdn.bfldr.com/QO5XXLW2/at/vfjwkf5jgx5z2x7xgx7fx96/Lonny_Schilt_1.png?auto=webp&format=png)\n",
       "Lonny is a veteran pharmaceutical and biotech executive. As a key leader at Amplity, he oversees market intelligence, sales operations, and strategic project management initiatives, ensuring our client programs deliver the highest return on investment in the industry. His leadership also extends to data and analytics efforts, driving actionable insights and optimizing outcomes. Before joining Amplity, Lonny spent over 20 years at Merck, where he held progressively senior roles, leading high-performing sales teams and business operations groups. He holds a bachelor’s degree in business administration from the University of Wisconsin-Madison and an MBA from the Kelley School of Business at Indiana University.  \n",
       "---</b>: <span style='color: red;'>0.21</span></li><li><b>Header 1: Who We Are: Dedicated Life Science Experts - Amplity\n",
       "Header 2: Awards\n",
       "Header 3: PM360 Trailblazer Finalist\n",
       "Content: ![PM360 Trailblazer Badge](https://cdn.bfldr.com/QO5XXLW2/at/47n5h3x9r6w94vhfwhxs5s6/2023_PM_360_Trailblazer_Finalist.png?format=png&crop=282%2C328%2Cx251%2Cy32)\n",
       "- **2023 - Best Podcast Category**  \n",
       "---</b>: <span style='color: red;'>0.21</span></li><li><b>Header 1: Leadership Profiles - Amplity\n",
       "Header 2: Leadership Team\n",
       "Header 3: Eric Green\n",
       "Header 4: General Counsel + Chief Compliance Officer\n",
       "Content: ![Eric Green](https://cdn.bfldr.com/QO5XXLW2/at/8kb2z7tzrzcffzx5smk3cr/Eric_Green.jpg?auto=webp&format=png)\n",
       "Eric comes to Amplity with over 2 decades of health law experience and a deep understanding of sales and marketing compliance. He also serves as the Secretary for Amplity’s Board of Directors. Previously, Eric was General Counsel and Chief Compliance Officer at inVentiv Health (now Syneos). He led legal for Quintiles’ (now IQVIA) global commercial and consulting businesses and was senior counsel at GE Healthcare. Over his career, he has negotiated thousands of healthcare-related agreements. Eric’s passion for healthcare is also informed by his own journey as a Stage 4 colon cancer patient and survivor. He holds a law degree with High Honors from Rutgers University School of Law and an MBA from the University of London.  \n",
       "---</b>: <span style='color: red;'>0.20</span></li><li><b>Header 1: Leadership Profiles - Amplity\n",
       "Header 2: Leadership Team\n",
       "Header 3: Archie Robinson\n",
       "Header 4: Senior Vice President of Client Partnerships\n",
       "Content: ![Archie Robinson](https://cdn.bfldr.com/QO5XXLW2/at/9hjpmxkwgt6kc9q3mq79p88k/Archie_Robinson_2.png?auto=webp&format=png)\n",
       "As Senior Client Partner, Archie drives strategic relationships and innovative solutions for top biopharma organizations. Partnering with Amplity’s business units, he crafts tailored offerings that meet clients' unique needs and therapeutic challenges. With over 30 years of experience in life sciences and contract sales, Archie excels in balancing sales, marketing, operations, and account management. Prior to joining Amplity in 2011, he served as VP of Marketing & Sales at Intercell USA and Executive Director of Strategic Operations at Pharmacia. He holds a Master’s in Biological Science from Marshall University.  \n",
       "---</b>: <span style='color: red;'>0.20</span></li><li><b>Header 1: Leadership Profiles - Amplity\n",
       "Header 2: Leadership Team\n",
       "Header 3: Brian O'Donnell\n",
       "Header 4: President of Contract Sales Teams\n",
       "Content: ![Brian O'Donnell](https://cdn.bfldr.com/QO5XXLW2/at/qjwgsgx943vm3h5n6kqw7z/Brian_O_Donnell_2.png?auto=webp&format=png)\n",
       "With over 25 years pharma experience, Brian oversees the portfolio of our US contract sales teams and other sales services. He is a strategic advisor to our clients and is responsible for developing, building, and executing Amplity’s full range of deployment strategies, including blended sales models, precision medicine experts, and market access and reimbursement teams. Brian is passionate about people — patients, providers, partners, and the outstanding colleagues who deliver winning programs that ultimately serve the patients who rely on the therapies we represent.  \n",
       "---</b>: <span style='color: red;'>0.20</span></li><li><b>Header 1: Who We Are: Dedicated Life Science Experts - Amplity\n",
       "Header 2: Awards\n",
       "Header 3: TITAN Platinum Award Winner\n",
       "Content: ![2025 TITAN Platinum Winner award badge.](https://cdn.bfldr.com/QO5XXLW2/at/vm3kfrrb4z67tsr69nn847/Amplity__Inc__Winner_Badge.png?auto=webp&format=png&width=241&height=500)\n",
       "- **2025 - Best Rebranding Effort**</b>: <span style='color: red;'>0.19</span></li><li><b>Header 1: Leadership Profiles - Amplity\n",
       "Header 2: Board Members\n",
       "Header 3: Tony Hooper\n",
       "Header 4: Board Member\n",
       "Content: ![Tony Hooper](https://cdn.bfldr.com/QO5XXLW2/at/f76hm3vqf7mccsh3p4s/Tony_Hooper.jpg?auto=webp&format=png)\n",
       "Tony is a highly experienced commercial life sciences executive with over 25 years in leadership roles at major biotech and pharmaceutical companies. His expertise includes corporate governance, global operations, and strategic decision-making. Previously, Tony served as Executive Vice President of Global Commercial Operations at Amgen and led Bristol-Myers Squibb's operations across the Americas, Europe, the Middle East, and Africa. He was also the Assistant Vice President of Global Marketing at Wyeth Laboratories. Tony serves on the boards of MannKind Corporation, BeiGene Ltd., and Lykan Biosciences. He holds both a JD and MBA from the University of South Africa.  \n",
       "---</b>: <span style='color: red;'>0.19</span></li><li><b>Header 1: Who We Are: Dedicated Life Science Experts - Amplity\n",
       "Header 2: Awards\n",
       "Header 3: PM360 Pharma Choice Patient Education Silver Winner\n",
       "Content: ![PM360 Pharma Choice Badge](https://cdn.bfldr.com/QO5XXLW2/at/w9grf8hvcfww7j4kx8pfv73q/2024_PM360_Pharma_Choice.png?auto=webp&format=png&width=800&height=221)\n",
       "- **2024 - Patient Education Category**</b>: <span style='color: red;'>0.19</span></li></ul></div>"
      ],
      "text/plain": [
       "<IPython.core.display.HTML object>"
      ]
     },
     "metadata": {},
     "output_type": "display_data"
    },
    {
     "data": {
      "text/markdown": [
       "### Q: What is Pravin Wilfred known for (Normal)"
      ],
      "text/plain": [
       "<IPython.core.display.Markdown object>"
      ]
     },
     "metadata": {},
     "output_type": "display_data"
    },
    {
     "data": {
      "text/html": [
       "<div style='font-family: Arial, sans-serif;'><h3>Text and Scores</h3><ul style='list-style-type: none;'><li><b>Officer!Pravin Wilfredhttpscdn.bfldr.comQO5XXLW2atrsjrn38cs8wh4k2f48ftf6Pravin_Wilfred_1.png?autowebpformatpng As Chief Technology Officer at Amplity, Pravin drives AI transformation, infrastructure modernization, and operational excellence for private equity-backed organizations. With 25 years of experience, including 12 as a CTO, he is a Six Sigma-certified leader with a masters in engineering.</b>: <span style='color: orange;'>0.59</span></li><li><b>and operational excellence for private equity-backed organizations. With 25 years of experience, including 12 as a CTO, he is a Six Sigma-certified leader with a masters in engineering. Pravin focuses on enterprise AI solutions, data strategy, machine learning, and product development to craft innovative solutions for clients and internal stakeholders. He emphasizes infrastructure security and</b>: <span style='color: red;'>0.44</span></li><li><b>on enterprise AI solutions, data strategy, machine learning, and product development to craft innovative solutions for clients and internal stakeholders. He emphasizes infrastructure security and building robust frameworks that align with business goals. Known for leading global tech teams and launching ERP systems, Pravin delivers innovation, efficiency, and growth for life sciences and pharma</b>: <span style='color: red;'>0.44</span></li><li><b>robust frameworks that align with business goals. Known for leading global tech teams and launching ERP systems, Pravin delivers innovation, efficiency, and growth for life sciences and pharma industries. ---  Board Members  Anup Gupta Board Member!Anup Guptahttpscdn.bfldr.comQO5XXLW2at47jrrc4rkkwcrbnf9tq53xqAnup-Gupta-e1736274346790.png?autowebpformatpng Anup brings 30 years of global experience</b>: <span style='color: red;'>0.38</span></li><li><b>success and patient care. Michele has her BS and MS in education from The College of Saint Rose and her CAS in Educational Research from the University at Albany. ---  Pravin Wilfred Chief Technology Officer!Pravin Wilfredhttpscdn.bfldr.comQO5XXLW2atrsjrn38cs8wh4k2f48ftf6Pravin_Wilfred_1.png?autowebpformatpng As Chief Technology Officer at Amplity, Pravin drives AI transformation, infrastructure</b>: <span style='color: red;'>0.37</span></li><li><b>not-for-profit sectors. She is especially focused on the intersection of how our clients use information and creativity to solve their business problems and deliver new ideas that improve business success and patient care. Michele has her BS and MS in education from The College of Saint Rose and her CAS in Educational Research from the University at Albany. ---  Pravin Wilfred Chief Technology</b>: <span style='color: red;'>0.36</span></li><li><b>sciences from The National University of Singapore and an MBA from The Wharton School at the University of Pennsylvania, where he was a Palmer Scholar. ---  Hensley Evans Board Member!Hensley Evanshttpscdn.bfldr.comQO5XXLW2atj8cgkbg9bthvxm7jss3ttb5Hensley_Evans.jpg?autowebpformatpng Hensley is a seasoned advisor with over 30 years of experience in strategic and financial consulting across</b>: <span style='color: red;'>0.25</span></li><li><b>Schilthttpscdn.bfldr.comQO5XXLW2atvfjwkf5jgx5z2x7xgx7fx96Lonny_Schilt_1.png?autowebpformatpng Lonny is a veteran pharmaceutical  biotech executive. As a key leader at Amplity, he oversees market intelligence, sales operations, and strategic project management initiatives, ensuring our client programs deliver the highest return on investment in the industry. His leadership also extends to data and</b>: <span style='color: red;'>0.25</span></li><li><b>teams. He has held C-level roles at organizations such as Avara Pharmaceutical Services, Analytical Wizards, DRG, Parexel, and Cambrex, where he helped scale operations and execute acquisitions across multiple continents. Anups deep healthcare expertise spans over 50 countries, with a track record of supporting global operations. He holds a BS in computer and information sciences from The</b>: <span style='color: red;'>0.23</span></li><li><b>Commercial Operations at Amgen and led Bristol-Myers Squibbs operations across the Americas, Europe, the Middle East, and Africa. He was also the Assistant Vice President of Global Marketing at Wyeth Laboratories. Tony serves on the boards of MannKind Corporation, BeiGene Ltd., and Lykan Biosciences. He holds both a JD and MBA from the University of South Africa. ---  Our People  Expertise Is Our</b>: <span style='color: red;'>0.23</span></li></ul></div>"
      ],
      "text/plain": [
       "<IPython.core.display.HTML object>"
      ]
     },
     "metadata": {},
     "output_type": "display_data"
    }
   ],
   "source": [
    "query = \"What is Pravin Wilfred known for\"\n",
    "\n",
    "md_resp = get_response(query=query, use_md=True)\n",
    "norm_resp = get_response(query=query, use_md=False)\n",
    "md_results = results = [\n",
    "            {\"metadata\": match.get(\"metadata\", {}), \"score\": match.get(\"score\")}\n",
    "            for match in md_resp.matches\n",
    "            if match.get(\"score\")\n",
    "        ]\n",
    "\n",
    "norm_results = results = [\n",
    "            {\"metadata\": match.get(\"metadata\", {}), \"score\": match.get(\"score\")}\n",
    "            for match in norm_resp.matches\n",
    "            if match.get(\"score\")\n",
    "        ]\n",
    "\n",
    "# Create HTML string\n",
    "html_content = \"<div style='font-family: Arial, sans-serif;'>\"\n",
    "html_content += \"<h3>Text and Scores</h3>\"\n",
    "html_content += \"<ul style='list-style-type: none;'>\"\n",
    "\n",
    "for item in md_results:\n",
    "    element = item[\"metadata\"]\n",
    "    score = item['score']\n",
    "    # Color based on score\n",
    "    color = 'green' if score >= 0.60 else 'orange' if score >= 0.5 else 'red'\n",
    "    html_content += f\"<li><b>{element['chunk_text']}</b>: <span style='color: {color};'>{score:.2f}</span></li>\"\n",
    "html_content += \"</ul></div>\"\n",
    "\n",
    "display(Markdown(f\"### Q: {query} (Markdown)\"))\n",
    "# Display the HTML\n",
    "display(HTML(html_content))\n",
    "\n",
    "# Create HTML string\n",
    "html_content = \"<div style='font-family: Arial, sans-serif;'>\"\n",
    "html_content += \"<h3>Text and Scores</h3>\"\n",
    "html_content += \"<ul style='list-style-type: none;'>\"\n",
    "\n",
    "for item in norm_results:\n",
    "    element = item[\"metadata\"]\n",
    "    score = item['score']\n",
    "    # Color based on score\n",
    "    color = 'green' if score >= 0.60 else 'orange' if score >= 0.5 else 'red'\n",
    "    html_content += f\"<li><b>{element['chunk_text']}</b>: <span style='color: {color};'>{score:.2f}</span></li>\"\n",
    "html_content += \"</ul></div>\"\n",
    "\n",
    "display(Markdown(f\"### Q: {query} (Normal)\"))\n",
    "# Display the HTML\n",
    "display(HTML(html_content))"
   ]
  },
  {
   "cell_type": "code",
   "execution_count": null,
   "id": "bf8470e7",
   "metadata": {},
   "outputs": [],
   "source": []
  }
 ],
 "metadata": {
  "kernelspec": {
   "display_name": "learning-bHz_lsOL",
   "language": "python",
   "name": "python3"
  },
  "language_info": {
   "codemirror_mode": {
    "name": "ipython",
    "version": 3
   },
   "file_extension": ".py",
   "mimetype": "text/x-python",
   "name": "python",
   "nbconvert_exporter": "python",
   "pygments_lexer": "ipython3",
   "version": "3.10.5"
  }
 },
 "nbformat": 4,
 "nbformat_minor": 5
}
