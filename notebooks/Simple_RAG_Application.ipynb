{
 "cells": [
  {
   "cell_type": "markdown",
   "id": "814ba783",
   "metadata": {},
   "source": [
    "## Simple RAG Application"
   ]
  },
  {
   "cell_type": "markdown",
   "id": "b3ff65e2",
   "metadata": {},
   "source": [
    "### PDF Reader"
   ]
  },
  {
   "cell_type": "code",
   "execution_count": null,
   "id": "c1d5db58",
   "metadata": {},
   "outputs": [],
   "source": [
    "!pipenv install pypdf"
   ]
  },
  {
   "cell_type": "code",
   "execution_count": 33,
   "id": "d0a770c0",
   "metadata": {},
   "outputs": [],
   "source": [
    "from pypdf import PdfReader"
   ]
  },
  {
   "cell_type": "code",
   "execution_count": 34,
   "id": "4b7fd58e",
   "metadata": {},
   "outputs": [],
   "source": [
    "def get_pdf_content(file_path: str):\n",
    "    if not file_path.endswith(\".pdf\"):\n",
    "        raise ValueError(\"Expecting .pdf file\")\n",
    "    \n",
    "    reader = PdfReader(file_path)\n",
    "    \n",
    "    print(f\"Found {len(reader.pages)} pages\")\n",
    "    \n",
    "    pdf_content = \"\"\n",
    "    \n",
    "    for page in reader.pages:\n",
    "        text = page.extract_text()\n",
    "        pdf_content += text\n",
    "    \n",
    "    return pdf_content"
   ]
  },
  {
   "cell_type": "code",
   "execution_count": 35,
   "id": "8c18607f",
   "metadata": {},
   "outputs": [
    {
     "name": "stdout",
     "output_type": "stream",
     "text": [
      "Found 3 pages\n"
     ]
    }
   ],
   "source": [
    "pdf_content = get_pdf_content(file_path=\"../assets/docs/Declaration_of_Independence.pdf\")"
   ]
  },
  {
   "cell_type": "code",
   "execution_count": 36,
   "id": "2bc0db36",
   "metadata": {},
   "outputs": [
    {
     "data": {
      "text/plain": [
       "9599"
      ]
     },
     "execution_count": 36,
     "metadata": {},
     "output_type": "execute_result"
    }
   ],
   "source": [
    "len(pdf_content)"
   ]
  },
  {
   "cell_type": "code",
   "execution_count": 6,
   "id": "384d4672",
   "metadata": {},
   "outputs": [
    {
     "name": "stdout",
     "output_type": "stream",
     "text": [
      "United States\n",
      "Declaration of Independence\n",
      "The 1823 facsimile of the engrossed copy of\n",
      "the Declaration of Independence\n",
      "Created June–July 1776\n",
      "Ratified July 4, 1776\n",
      "Location Engrossed copy: National\n",
      "Archives Building\n",
      "Rough draft: Library of Congress\n",
      "Author(s) Thomas Jefferson, Committee of\n",
      "Five\n",
      "Signat\n"
     ]
    }
   ],
   "source": [
    "print(pdf_content[:300])"
   ]
  },
  {
   "cell_type": "markdown",
   "id": "091908f4",
   "metadata": {},
   "source": [
    "### LLM + Embeddings"
   ]
  },
  {
   "cell_type": "markdown",
   "id": "fe08bb1a",
   "metadata": {},
   "source": [
    "| Chat Completion |\n",
    "|--|"
   ]
  },
  {
   "cell_type": "code",
   "execution_count": 1,
   "id": "3c0ed682",
   "metadata": {},
   "outputs": [],
   "source": [
    "from openai import AzureOpenAI\n",
    "from dotenv import load_dotenv\n",
    "from os import getenv\n",
    "\n",
    "load_dotenv()\n",
    "client = AzureOpenAI(\n",
    "    api_key=getenv(\"AZURE_OPENAI_API_KEY\"),\n",
    "    azure_endpoint=getenv(\"AZURE_OPENAI_ENDPOINT\"),\n",
    "    api_version=getenv(\"AZURE_OPENAI_API_VERSION\")\n",
    ")"
   ]
  },
  {
   "cell_type": "code",
   "execution_count": 2,
   "id": "6d7aedb3",
   "metadata": {},
   "outputs": [],
   "source": [
    "MODEL_NAME = \"gpt-4o-mini\"\n",
    "\n",
    "completion = client.chat.completions.create(\n",
    "  model=MODEL_NAME,\n",
    "  store=False,\n",
    "  messages=[\n",
    "    {\"role\": \"user\", \"content\": \"write a haiku about ai\"}\n",
    "  ]\n",
    ")"
   ]
  },
  {
   "cell_type": "code",
   "execution_count": 22,
   "id": "54351007",
   "metadata": {},
   "outputs": [],
   "source": [
    "def get_chat_completion(query: str):\n",
    "    completion = client.chat.completions.create(\n",
    "    model=MODEL_NAME,\n",
    "    store=False,\n",
    "    messages=[\n",
    "        {\"role\": \"user\", \"content\": query}\n",
    "        ]\n",
    "    )\n",
    "    return completion.choices[0].message.content"
   ]
  },
  {
   "cell_type": "code",
   "execution_count": 6,
   "id": "ba8f539d",
   "metadata": {},
   "outputs": [
    {
     "name": "stdout",
     "output_type": "stream",
     "text": [
      "Silicon whispers,  \n",
      "Dreams woven in data streams,  \n",
      "Minds awake in code.\n"
     ]
    }
   ],
   "source": [
    "print(completion.choices[0].message.content)"
   ]
  },
  {
   "cell_type": "code",
   "execution_count": 25,
   "id": "41c7b921",
   "metadata": {},
   "outputs": [
    {
     "name": "stdout",
     "output_type": "stream",
     "text": [
      "Why did the scarecrow win an award? \n",
      "\n",
      "Because he was outstanding in his field!\n"
     ]
    }
   ],
   "source": [
    "print(get_chat_completion(query=\"Tell me a joke\"))"
   ]
  },
  {
   "cell_type": "markdown",
   "id": "3208e816",
   "metadata": {},
   "source": [
    "| Embeddings |\n",
    "|--|"
   ]
  },
  {
   "cell_type": "code",
   "execution_count": 7,
   "id": "7c6c2373",
   "metadata": {},
   "outputs": [],
   "source": [
    "embedding_deployment = \"text-embedding-3-small\""
   ]
  },
  {
   "cell_type": "code",
   "execution_count": 8,
   "id": "7a0bcc48",
   "metadata": {},
   "outputs": [
    {
     "name": "stdout",
     "output_type": "stream",
     "text": [
      "Embedding (first 10 values): [0.004830851685255766, -0.05471838638186455, 0.045494429767131805, 0.031470887362957, -0.02837539091706276, -0.029735533520579338, -0.03137708455324173, 0.03159596025943756, -0.01418769545853138, 0.015368049964308739]\n",
      "Embedding length: 1536\n"
     ]
    }
   ],
   "source": [
    "try:\n",
    "    # Query the embeddings endpoint\n",
    "    response = client.embeddings.create(\n",
    "        model=embedding_deployment,  # Use deployment name, not model name\n",
    "        input=\"Hello World\"\n",
    "    )\n",
    "    \n",
    "    # Extract the embedding\n",
    "    embedding = response.data[0].embedding\n",
    "    print(f\"Embedding (first 10 values): {embedding[:10]}\")\n",
    "    print(f\"Embedding length: {len(embedding)}\")\n",
    "except Exception as e:\n",
    "    print(f\"Error generating embedding: {e}\")"
   ]
  },
  {
   "cell_type": "code",
   "execution_count": 9,
   "id": "97a18055",
   "metadata": {},
   "outputs": [],
   "source": [
    "import numpy as np"
   ]
  },
  {
   "cell_type": "code",
   "execution_count": 17,
   "id": "885b7249",
   "metadata": {},
   "outputs": [],
   "source": [
    "def get_openai_embeddings(texts):\n",
    "    response = client.embeddings.create(\n",
    "        model=embedding_deployment,  # Use a suitable OpenAI embedding model\n",
    "        input=texts\n",
    "    )\n",
    "    return [np.array(embedding.embedding, dtype='float32') for embedding in response.data]"
   ]
  },
  {
   "cell_type": "code",
   "execution_count": 18,
   "id": "43fe3a76",
   "metadata": {},
   "outputs": [],
   "source": [
    "embedding_list = get_openai_embeddings(texts=[\"One\", \"Two\", \"Tree\"])"
   ]
  },
  {
   "cell_type": "code",
   "execution_count": 21,
   "id": "1031e85f",
   "metadata": {},
   "outputs": [
    {
     "data": {
      "text/plain": [
       "(3,\n",
       " array([-0.01171586, -0.0244152 ,  0.02705341, ..., -0.01912316,\n",
       "        -0.02052812,  0.06575244], shape=(1536,), dtype=float32),\n",
       " 1536)"
      ]
     },
     "execution_count": 21,
     "metadata": {},
     "output_type": "execute_result"
    }
   ],
   "source": [
    "len(embedding_list), embedding_list[0], len(embedding_list[0])"
   ]
  },
  {
   "cell_type": "markdown",
   "id": "94db9b9d",
   "metadata": {},
   "source": [
    "### Vector Store"
   ]
  },
  {
   "cell_type": "code",
   "execution_count": null,
   "id": "f82e8f80",
   "metadata": {},
   "outputs": [],
   "source": [
    "!pipenv install faiss-cpu"
   ]
  },
  {
   "cell_type": "code",
   "execution_count": 26,
   "id": "073a81eb",
   "metadata": {},
   "outputs": [],
   "source": [
    "import faiss"
   ]
  },
  {
   "cell_type": "code",
   "execution_count": 27,
   "id": "fa78ad83",
   "metadata": {},
   "outputs": [],
   "source": [
    "EMBEDDING_DIM = 1536"
   ]
  },
  {
   "cell_type": "code",
   "execution_count": 56,
   "id": "c9582b37",
   "metadata": {},
   "outputs": [],
   "source": [
    "index = faiss.IndexFlatL2(EMBEDDING_DIM)"
   ]
  },
  {
   "cell_type": "markdown",
   "id": "8a9dd520",
   "metadata": {},
   "source": [
    "### Chunking"
   ]
  },
  {
   "cell_type": "code",
   "execution_count": null,
   "id": "e75a54c4",
   "metadata": {},
   "outputs": [],
   "source": [
    "!pipenv install tiktoken"
   ]
  },
  {
   "cell_type": "code",
   "execution_count": 30,
   "id": "35a985f6",
   "metadata": {},
   "outputs": [],
   "source": [
    "import tiktoken"
   ]
  },
  {
   "cell_type": "code",
   "execution_count": 48,
   "id": "75d8f1cd",
   "metadata": {},
   "outputs": [],
   "source": [
    "def chunk_text(text, chunk_size=150, overlap=50):\n",
    "    encoding = tiktoken.encoding_for_model(embedding_deployment)\n",
    "    tokens = encoding.encode(text)\n",
    "    chunks = []\n",
    "    start = 0\n",
    "    while start < len(tokens):\n",
    "        end = min(start + chunk_size, len(tokens))\n",
    "        chunk_tokens = tokens[start:end]\n",
    "        chunk_text = encoding.decode(chunk_tokens)\n",
    "        chunks.append(chunk_text)\n",
    "        start += chunk_size - overlap\n",
    "    return chunks"
   ]
  },
  {
   "cell_type": "code",
   "execution_count": 49,
   "id": "2279cd32",
   "metadata": {},
   "outputs": [],
   "source": [
    "pdf_chunks = chunk_text(text=pdf_content)"
   ]
  },
  {
   "cell_type": "code",
   "execution_count": 50,
   "id": "886fb846",
   "metadata": {},
   "outputs": [
    {
     "data": {
      "text/plain": [
       "22"
      ]
     },
     "execution_count": 50,
     "metadata": {},
     "output_type": "execute_result"
    }
   ],
   "source": [
    "len(pdf_chunks)"
   ]
  },
  {
   "cell_type": "code",
   "execution_count": 51,
   "id": "97b03a51",
   "metadata": {},
   "outputs": [],
   "source": [
    "chunk_embeddings = get_openai_embeddings(texts=pdf_chunks)"
   ]
  },
  {
   "cell_type": "code",
   "execution_count": 52,
   "id": "d1b39cd7",
   "metadata": {},
   "outputs": [
    {
     "data": {
      "text/plain": [
       "1536"
      ]
     },
     "execution_count": 52,
     "metadata": {},
     "output_type": "execute_result"
    }
   ],
   "source": [
    "len(chunk_embeddings[0])"
   ]
  },
  {
   "cell_type": "code",
   "execution_count": 57,
   "id": "2c0da537",
   "metadata": {},
   "outputs": [],
   "source": [
    "index.add(np.array(chunk_embeddings))"
   ]
  },
  {
   "cell_type": "code",
   "execution_count": 58,
   "id": "372f9a3b",
   "metadata": {},
   "outputs": [],
   "source": [
    "query_text = \"Abraham Lincoln's involvement\"\n",
    "query_embedding = get_openai_embeddings([query_text])[0]"
   ]
  },
  {
   "cell_type": "code",
   "execution_count": 59,
   "id": "d21d7c02",
   "metadata": {},
   "outputs": [],
   "source": [
    "k = 3  # Number of nearest neighbors\n",
    "distances, indices = index.search(query_embedding.reshape(1, -1), k)"
   ]
  },
  {
   "cell_type": "code",
   "execution_count": 60,
   "id": "d2667519",
   "metadata": {},
   "outputs": [
    {
     "name": "stdout",
     "output_type": "stream",
     "text": [
      "Query: Abraham Lincoln's involvement\n",
      "Nearest chunks:\n",
      "Chunk:  globally impactful statement on human rights. The\n",
      "Declaration was viewed by Abraham Lincoln as the moral standard to which the United States\n",
      "should strive, and he considered it a statement of principles through which the Constitution should\n",
      "be interpreted.[6]: 126  In 1863, Lincoln made the Declaration the centerpiece of his Gettysburg\n",
      "Address, widely considered among the most famous speeches in American history.[7] The\n",
      "Declaration's second sentence, \"We hold these truths to be self-evident, that all men are created\n",
      "equal, that they are endowed by their Creator with certain unalienable Rights, that among these\n",
      "are Life, Liberty and the pursuit of Happiness\", is considered one of the most significant and famed\n",
      "lines in\n",
      "Distance: 1.1801\n",
      "####################################################################################################\n",
      "Chunk: side was widely\n",
      "distributed following its signing. It is now preserved at the Library of Congress in Washington,\n",
      "D.C.[3] The signed copy of the Declaration is now on display at the National Archives in\n",
      "Washington, D.C., and is generally considered the official document; this copy, engrossed by\n",
      "Timothy Matlack, was ordered by Congress on July 19, and signed primarily on August 2,\n",
      "1776.[4][5]\n",
      "The Declaration has proven an influential and globally impactful statement on human rights. The\n",
      "Declaration was viewed by Abraham Lincoln as the moral standard to which the United States\n",
      "should strive, and he considered it a statement of principles through which the Constitution should\n",
      "be interpreted.[6]: 126 \n",
      "Distance: 1.3367\n",
      "####################################################################################################\n",
      "Chunk: ially loves a\n",
      "union with Great Britain than I do. But, by the God that made me, I will cease to exist\n",
      "before I yield to a connection on such terms as the British Parliament propose; and in\n",
      "this, I think I speak the sentiments of America.\n",
      "— Thomas Jefferson, November 29, 1775[10]\n",
      "By the time the Declaration of Independence was adopted in July 1776, the Thirteen Colonies and\n",
      "Kingdom of Great Britain had been at war for over a year. Relations had been deteriorating\n",
      "between the colonies and the mother country since 1763. In 1767, Parliament enacted a series of\n",
      "measures designed to increase revenue from the colonies, including the Stamp Act of\n",
      "Distance: 1.3994\n",
      "####################################################################################################\n"
     ]
    }
   ],
   "source": [
    "print(\"Query:\", query_text)\n",
    "print(\"Nearest chunks:\")\n",
    "for i, idx in enumerate(indices[0]):\n",
    "    print(f\"Chunk: {pdf_chunks[idx]}\")  # Truncate for brevity\n",
    "    print(f\"Distance: {distances[0][i]:.4f}\")\n",
    "    print(\"#\"*100)"
   ]
  },
  {
   "cell_type": "code",
   "execution_count": null,
   "id": "39924213",
   "metadata": {},
   "outputs": [],
   "source": []
  }
 ],
 "metadata": {
  "kernelspec": {
   "display_name": "learning-bHz_lsOL",
   "language": "python",
   "name": "python3"
  },
  "language_info": {
   "codemirror_mode": {
    "name": "ipython",
    "version": 3
   },
   "file_extension": ".py",
   "mimetype": "text/x-python",
   "name": "python",
   "nbconvert_exporter": "python",
   "pygments_lexer": "ipython3",
   "version": "3.10.5"
  }
 },
 "nbformat": 4,
 "nbformat_minor": 5
}
