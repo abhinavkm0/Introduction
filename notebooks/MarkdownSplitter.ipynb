{
 "cells": [
  {
   "cell_type": "code",
   "execution_count": 1,
   "id": "066643ae",
   "metadata": {},
   "outputs": [],
   "source": [
    "from os import listdir"
   ]
  },
  {
   "cell_type": "code",
   "execution_count": 2,
   "id": "87731ccb",
   "metadata": {},
   "outputs": [],
   "source": [
    "md_file_dir = \"../assets/docs/amplity_markdown_files\"\n",
    "\n",
    "md_files = listdir(md_file_dir)"
   ]
  },
  {
   "cell_type": "code",
   "execution_count": 3,
   "id": "4ac9f439",
   "metadata": {},
   "outputs": [
    {
     "data": {
      "text/plain": [
       "['2851.md', '2849.md', '2847.md', '2850.md', '2846.md', '2848.md', '2845.md']"
      ]
     },
     "execution_count": 3,
     "metadata": {},
     "output_type": "execute_result"
    }
   ],
   "source": [
    "md_files"
   ]
  },
  {
   "cell_type": "code",
   "execution_count": 4,
   "id": "173f3267",
   "metadata": {},
   "outputs": [],
   "source": [
    "md_file_content = {}"
   ]
  },
  {
   "cell_type": "code",
   "execution_count": 5,
   "id": "bc435e7c",
   "metadata": {},
   "outputs": [],
   "source": [
    "for file_name in md_files:\n",
    "    with open(f\"{md_file_dir}/{file_name}\", \"r\") as f:\n",
    "        file_content = f.read()\n",
    "        \n",
    "    md_file_content[file_name] = file_content"
   ]
  },
  {
   "cell_type": "code",
   "execution_count": 6,
   "id": "dfdd7fbf",
   "metadata": {},
   "outputs": [
    {
     "data": {
      "text/plain": [
       "\"```markdown\\n# View Our Work - See Why We’re Quicker, Better, Nicer - Amplity\\n\\n## Case Studies\\n\\n### Our Work\\n[![Hands on laptop screen](https://cdn.bfldr.com/QO5XXLW2/at/j6rp25rtftwq75cjs9b59jk4/hands-on-laptop-screen.jpeg?format=png&crop=8043%2C3385%2Cx159%2Cy510&width=1920&height=808)](https://amplity.com/case-study/amplity-clinical-engagement-data-insights)  \\n**[Read Article](https://amplity.com/case-study/amplity-clinical-engagement-data-insights)**  \\n![arrow](https://amplity.com/wp-content/uploads/2024/09/contact_arrow_white.png)\\n\\n---\\n\\n### Amplity Sales\\n![Sales Icon](https://amplity.com/wp-content/uploads/2025/03/business-sales-icon.svg)  \\n**Focus Areas:**  \\n- Immunology  \\n- Oncology  \\n\\n---\\n\\n## Case Studies Overview\\n\\n### [Unbeatable 21:1 ROI](https://amplity.com/case-study/amplity-clinical-engagement-data-insights)\\n- **Date:** October 10, 2024  \\n\\n---\\n\\n## Topics\\n- AI + NLP  \\n- Alzheimer's  \\n- Autoimmune  \\n- Awards  \\n- Biologics  \\n- Biosimilars  \\n- Clinical Trials  \\n- Community Engagement  \\n- Company Updates  \\n- Compliance  \\n- Conference  \\n- Dermatology  \\n- Federal  \\n- GLP-1  \\n- Immunology  \\n- Infectious Disease  \\n- Inflammatory Bowel Disease  \\n- Market Access  \\n- Maternal Fetal  \\n- Medical Affairs  \\n- Musculoskeletal  \\n- Nephrology  \\n- Neurology  \\n- Nurse Teams  \\n- Nursing  \\n- Omnichannel  \\n- Oncology  \\n- Outsourced Teams  \\n- Patient Engagement  \\n- Precision Medicine  \\n- Primary Care  \\n- Publication  \\n- Qualitative Database  \\n- Rare Disease  \\n- Rheumatoid Arthritis  \\n- RWE + HEOR  \\n- Sales Excellence  \\n- Technology  \\n\\n---\\n\\n## Case Studies by Category\\n\\n### Medical\\n\\n#### [23 of 100 Ultra-Rare Disease Patients Found](https://amplity.com/case-study/23-percent-ultra-rare-disease-patients-found)\\n- **Date:** April 24, 2025  \\n- **Focus Areas:**  \\n  - Nurse Teams  \\n  - Rare Disease  \\n\\n[![Young patients with ultra-rare diseases](https://cdn.bfldr.com/QO5XXLW2/at/3nn8rs7t8trcrv73wnvt7p6b/young-child-sitting-on-a-couch-with-family.jpeg?format=png&crop=6666%2C2805%2Cx55%2Cy229&width=1920&height=808)](https://amplity.com/case-study/23-percent-ultra-rare-disease-patients-found)  \\n**[Read More](https://amplity.com/case-study/23-percent-ultra-rare-disease-patients-found)**  \\n![arrow](https://amplity.com/wp-content/uploads/2024/09/contact_arrow_white.png)\\n\\n---\\n\\n#### [Ultra-Rare Disease Testing Jumps](https://amplity.com/case-study/ultra-rare-disease-testing-jumps)\\n- **Date:** December 14, 2024  \\n- **Focus Areas:**  \\n  - Patient Engagement  \\n  - Rare Disease  \\n\\n[![Nurse and patient looking at screen](https://cdn.bfldr.com/QO5XXLW2/at/7hn3jqp3gvqbgrcmjmrqh3tz/nurse-and-patient-lookng-at-screen.jpeg?format=png&crop=6499%2C2735%2Cx174%2Cy812&width=1920&height=808)](https://amplity.com/case-study/ultra-rare-disease-testing-jumps)  \\n**[Read More](https://amplity.com/case-study/ultra-rare-disease-testing-jumps)**  \\n![arrow](https://amplity.com/wp-content/uploads/2024/09/contact_arrow_white.png)\\n\\n---\\n\\n### Intel\\n\\n#### [AnswerY Delivers 19:1 ROI](https://amplity.com/case-study/next-level-intel-for-rare-disease)\\n- **Date:** December 14, 2024  \\n- **Focus Areas:**  \\n  - Neurology  \\n  - Rare Disease  \\n\\n[![Girl with bear](https://cdn.bfldr.com/QO5XXLW2/at/f68p38k6nhp6gqrhqz74kt/girl-with-bear.jpeg?format=png&crop=5925%2C2494%2Cx55%2Cy237&width=1920&height=808)](https://amplity.com/case-study/next-level-intel-for-rare-disease)  \\n**[Read More](https://amplity.com/case-study/next-level-intel-for-rare-disease)**  \\n![arrow](https://amplity.com/wp-content/uploads/2024/09/contact_arrow_white.png)\\n\\n---\\n\\n### Sales\\n\\n#### [63 Rare Disease Patient Starts](https://amplity.com/case-study/63-rare-disease-patient-starts)\\n- **Date:** December 14, 2024  \\n- **Focus Areas:**  \\n  - Neurology  \\n  - Rare Disease  \\n\\n[![Doctor checking baby heart rate](https://cdn.bfldr.com/QO5XXLW2/at/kn93g8kg2xsjk3x8cpsk9kb/doctor-checking-baby-heart-rate.jpeg?format=png&crop=7856%2C3306%2Cx761%2Cy413&width=1920&height=808)](https://amplity.com/case-study/63-rare-disease-patient-starts)  \\n**[Read More](https://amplity.com/case-study/63-rare-disease-patient-starts)**  \\n![arrow](https://amplity.com/wp-content/uploads/2024/09/contact_arrow_white.png)\\n\\n---\\n\\n### Clinical Trials\\n\\n#### [Trial Ends 3 Months Early](https://amplity.com/case-study/trial-ends-3-months-early)\\n- **Date:** December 13, 2024  \\n- **Focus Areas:**  \\n  - Clinical Trials  \\n  - Rare Disease  \\n\\n[![Business lady talking to HCP](https://cdn.bfldr.com/QO5XXLW2/at/g5swgw5mbzt67jj4sv7gk6kv/business-lady-talking-to-HCP.jpeg?format=png&crop=4798%2C2019%2Cx49%2Cy630&width=1920&height=808)](https://amplity.com/case-study/trial-ends-3-months-early)  \\n**[Read More](https://amplity.com/case-study/trial-ends-3-months-early)**  \\n![arrow](https://amplity.com/wp-content/uploads/2024/09/contact_arrow_white.png)\\n\\n---\\n\\n## Powerful Partnerships Start Here\\n[Get in Touch](https://amplity.com/contact)  \\n\\n![Vector](https://amplity.com/wp-content/uploads/2024/09/Vector.png)  \\n![Book Vector Bottom MD](https://amplity.com/wp-content/uploads/2024/10/book-vector-bottom-md.svg)  \\n![Book Vector Bottom MD](https://amplity.com/wp-content/uploads/2024/10/book-vector-bottom-md.svg)  \\n![Book Vector Bottom SM](https://amplity.com/wp-content/uploads/2024/10/book-vector-bottom-sm.svg)\\n```\""
      ]
     },
     "execution_count": 6,
     "metadata": {},
     "output_type": "execute_result"
    }
   ],
   "source": [
    "md_file_content[md_files[0]]"
   ]
  },
  {
   "cell_type": "code",
   "execution_count": 7,
   "id": "9e61ac05",
   "metadata": {},
   "outputs": [],
   "source": [
    "from IPython.display import display, Markdown"
   ]
  },
  {
   "cell_type": "code",
   "execution_count": 8,
   "id": "766296cb",
   "metadata": {},
   "outputs": [
    {
     "data": {
      "text/markdown": [
       "```markdown\n",
       "# View Our Work - See Why We’re Quicker, Better, Nicer - Amplity\n",
       "\n",
       "## Case Studies\n",
       "\n",
       "### Our Work\n",
       "[![Hands on laptop screen](https://cdn.bfldr.com/QO5XXLW2/at/j6rp25rtftwq75cjs9b59jk4/hands-on-laptop-screen.jpeg?format=png&crop=8043%2C3385%2Cx159%2Cy510&width=1920&height=808)](https://amplity.com/case-study/amplity-clinical-engagement-data-insights)  \n",
       "**[Read Article](https://amplity.com/case-study/amplity-clinical-engagement-data-insights)**  \n",
       "![arrow](https://amplity.com/wp-content/uploads/2024/09/contact_arrow_white.png)\n",
       "\n",
       "---\n",
       "\n",
       "### Amplity Sales\n",
       "![Sales Icon](https://amplity.com/wp-content/uploads/2025/03/business-sales-icon.svg)  \n",
       "**Focus Areas:**  \n",
       "- Immunology  \n",
       "- Oncology  \n",
       "\n",
       "---\n",
       "\n",
       "## Case Studies Overview\n",
       "\n",
       "### [Unbeatable 21:1 ROI](https://amplity.com/case-study/amplity-clinical-engagement-data-insights)\n",
       "- **Date:** October 10, 2024  \n",
       "\n",
       "---\n",
       "\n",
       "## Topics\n",
       "- AI + NLP  \n",
       "- Alzheimer's  \n",
       "- Autoimmune  \n",
       "- Awards  \n",
       "- Biologics  \n",
       "- Biosimilars  \n",
       "- Clinical Trials  \n",
       "- Community Engagement  \n",
       "- Company Updates  \n",
       "- Compliance  \n",
       "- Conference  \n",
       "- Dermatology  \n",
       "- Federal  \n",
       "- GLP-1  \n",
       "- Immunology  \n",
       "- Infectious Disease  \n",
       "- Inflammatory Bowel Disease  \n",
       "- Market Access  \n",
       "- Maternal Fetal  \n",
       "- Medical Affairs  \n",
       "- Musculoskeletal  \n",
       "- Nephrology  \n",
       "- Neurology  \n",
       "- Nurse Teams  \n",
       "- Nursing  \n",
       "- Omnichannel  \n",
       "- Oncology  \n",
       "- Outsourced Teams  \n",
       "- Patient Engagement  \n",
       "- Precision Medicine  \n",
       "- Primary Care  \n",
       "- Publication  \n",
       "- Qualitative Database  \n",
       "- Rare Disease  \n",
       "- Rheumatoid Arthritis  \n",
       "- RWE + HEOR  \n",
       "- Sales Excellence  \n",
       "- Technology  \n",
       "\n",
       "---\n",
       "\n",
       "## Case Studies by Category\n",
       "\n",
       "### Medical\n",
       "\n",
       "#### [23 of 100 Ultra-Rare Disease Patients Found](https://amplity.com/case-study/23-percent-ultra-rare-disease-patients-found)\n",
       "- **Date:** April 24, 2025  \n",
       "- **Focus Areas:**  \n",
       "  - Nurse Teams  \n",
       "  - Rare Disease  \n",
       "\n",
       "[![Young patients with ultra-rare diseases](https://cdn.bfldr.com/QO5XXLW2/at/3nn8rs7t8trcrv73wnvt7p6b/young-child-sitting-on-a-couch-with-family.jpeg?format=png&crop=6666%2C2805%2Cx55%2Cy229&width=1920&height=808)](https://amplity.com/case-study/23-percent-ultra-rare-disease-patients-found)  \n",
       "**[Read More](https://amplity.com/case-study/23-percent-ultra-rare-disease-patients-found)**  \n",
       "![arrow](https://amplity.com/wp-content/uploads/2024/09/contact_arrow_white.png)\n",
       "\n",
       "---\n",
       "\n",
       "#### [Ultra-Rare Disease Testing Jumps](https://amplity.com/case-study/ultra-rare-disease-testing-jumps)\n",
       "- **Date:** December 14, 2024  \n",
       "- **Focus Areas:**  \n",
       "  - Patient Engagement  \n",
       "  - Rare Disease  \n",
       "\n",
       "[![Nurse and patient looking at screen](https://cdn.bfldr.com/QO5XXLW2/at/7hn3jqp3gvqbgrcmjmrqh3tz/nurse-and-patient-lookng-at-screen.jpeg?format=png&crop=6499%2C2735%2Cx174%2Cy812&width=1920&height=808)](https://amplity.com/case-study/ultra-rare-disease-testing-jumps)  \n",
       "**[Read More](https://amplity.com/case-study/ultra-rare-disease-testing-jumps)**  \n",
       "![arrow](https://amplity.com/wp-content/uploads/2024/09/contact_arrow_white.png)\n",
       "\n",
       "---\n",
       "\n",
       "### Intel\n",
       "\n",
       "#### [AnswerY Delivers 19:1 ROI](https://amplity.com/case-study/next-level-intel-for-rare-disease)\n",
       "- **Date:** December 14, 2024  \n",
       "- **Focus Areas:**  \n",
       "  - Neurology  \n",
       "  - Rare Disease  \n",
       "\n",
       "[![Girl with bear](https://cdn.bfldr.com/QO5XXLW2/at/f68p38k6nhp6gqrhqz74kt/girl-with-bear.jpeg?format=png&crop=5925%2C2494%2Cx55%2Cy237&width=1920&height=808)](https://amplity.com/case-study/next-level-intel-for-rare-disease)  \n",
       "**[Read More](https://amplity.com/case-study/next-level-intel-for-rare-disease)**  \n",
       "![arrow](https://amplity.com/wp-content/uploads/2024/09/contact_arrow_white.png)\n",
       "\n",
       "---\n",
       "\n",
       "### Sales\n",
       "\n",
       "#### [63 Rare Disease Patient Starts](https://amplity.com/case-study/63-rare-disease-patient-starts)\n",
       "- **Date:** December 14, 2024  \n",
       "- **Focus Areas:**  \n",
       "  - Neurology  \n",
       "  - Rare Disease  \n",
       "\n",
       "[![Doctor checking baby heart rate](https://cdn.bfldr.com/QO5XXLW2/at/kn93g8kg2xsjk3x8cpsk9kb/doctor-checking-baby-heart-rate.jpeg?format=png&crop=7856%2C3306%2Cx761%2Cy413&width=1920&height=808)](https://amplity.com/case-study/63-rare-disease-patient-starts)  \n",
       "**[Read More](https://amplity.com/case-study/63-rare-disease-patient-starts)**  \n",
       "![arrow](https://amplity.com/wp-content/uploads/2024/09/contact_arrow_white.png)\n",
       "\n",
       "---\n",
       "\n",
       "### Clinical Trials\n",
       "\n",
       "#### [Trial Ends 3 Months Early](https://amplity.com/case-study/trial-ends-3-months-early)\n",
       "- **Date:** December 13, 2024  \n",
       "- **Focus Areas:**  \n",
       "  - Clinical Trials  \n",
       "  - Rare Disease  \n",
       "\n",
       "[![Business lady talking to HCP](https://cdn.bfldr.com/QO5XXLW2/at/g5swgw5mbzt67jj4sv7gk6kv/business-lady-talking-to-HCP.jpeg?format=png&crop=4798%2C2019%2Cx49%2Cy630&width=1920&height=808)](https://amplity.com/case-study/trial-ends-3-months-early)  \n",
       "**[Read More](https://amplity.com/case-study/trial-ends-3-months-early)**  \n",
       "![arrow](https://amplity.com/wp-content/uploads/2024/09/contact_arrow_white.png)\n",
       "\n",
       "---\n",
       "\n",
       "## Powerful Partnerships Start Here\n",
       "[Get in Touch](https://amplity.com/contact)  \n",
       "\n",
       "![Vector](https://amplity.com/wp-content/uploads/2024/09/Vector.png)  \n",
       "![Book Vector Bottom MD](https://amplity.com/wp-content/uploads/2024/10/book-vector-bottom-md.svg)  \n",
       "![Book Vector Bottom MD](https://amplity.com/wp-content/uploads/2024/10/book-vector-bottom-md.svg)  \n",
       "![Book Vector Bottom SM](https://amplity.com/wp-content/uploads/2024/10/book-vector-bottom-sm.svg)\n",
       "```"
      ],
      "text/plain": [
       "<IPython.core.display.Markdown object>"
      ]
     },
     "metadata": {},
     "output_type": "display_data"
    }
   ],
   "source": [
    "display(Markdown(md_file_content[md_files[0]]))"
   ]
  },
  {
   "cell_type": "code",
   "execution_count": 9,
   "id": "61c15db7",
   "metadata": {},
   "outputs": [],
   "source": [
    "headers_to_split_on = [\n",
    "    (\"#\", \"Header 1\"),\n",
    "    (\"##\", \"Header 2\"),\n",
    "    (\"###\", \"Header 3\"),\n",
    "    (\"####\", \"Header 4\"),\n",
    "]"
   ]
  },
  {
   "cell_type": "code",
   "execution_count": 19,
   "id": "e956a114",
   "metadata": {},
   "outputs": [],
   "source": [
    "from langchain_text_splitters import MarkdownHeaderTextSplitter\n",
    "\n",
    "markdown_splitter = MarkdownHeaderTextSplitter(headers_to_split_on, return_each_line=True)"
   ]
  },
  {
   "cell_type": "markdown",
   "id": "bb0a166c",
   "metadata": {},
   "source": [
    "We need to strip out the codeblock"
   ]
  },
  {
   "cell_type": "code",
   "execution_count": 30,
   "id": "0f567dae",
   "metadata": {},
   "outputs": [],
   "source": [
    "from re import sub"
   ]
  },
  {
   "cell_type": "code",
   "execution_count": 37,
   "id": "4a424750",
   "metadata": {},
   "outputs": [
    {
     "data": {
      "text/plain": [
       "(5251,\n",
       " '```markdown\\n# Amplity - View Our Work  \\n**See Why We’re Quicker, Better, Nicer**\\n\\n---\\n\\n## Case Studi')"
      ]
     },
     "execution_count": 37,
     "metadata": {},
     "output_type": "execute_result"
    }
   ],
   "source": [
    "md_content = md_file_content[md_files[2]]\n",
    "len(md_content), md_content[:100]"
   ]
  },
  {
   "cell_type": "code",
   "execution_count": 38,
   "id": "e61bb206",
   "metadata": {},
   "outputs": [],
   "source": [
    "md_content = sub(r'```markdown\\n|```', \"\", md_content)"
   ]
  },
  {
   "cell_type": "code",
   "execution_count": 39,
   "id": "c038cf71",
   "metadata": {},
   "outputs": [
    {
     "data": {
      "text/plain": [
       "\"# Amplity - View Our Work  \\n**See Why We’re Quicker, Better, Nicer**\\n\\n---\\n\\n## Case Studies  \\n\\n### Our Work  \\n\\n[![Hands on laptop screen](https://cdn.bfldr.com/QO5XXLW2/at/j6rp25rtftwq75cjs9b59jk4/hands-on-laptop-screen.jpeg?format=png&crop=8043%2C3385%2Cx159%2Cy510&width=1920&height=808)](https://amplity.com/case-study/amplity-clinical-engagement-data-insights)  \\n**[Unbeatable 21:1 ROI](https://amplity.com/case-study/amplity-clinical-engagement-data-insights)**  \\n* October 10, 2024  \\n\\n---\\n\\n### Topics  \\n\\n- AI + NLP  \\n- Alzheimer's  \\n- Autoimmune  \\n- Awards  \\n- Biologics  \\n- Biosimilars  \\n- Clinical Trials  \\n- Community Engagement  \\n- Company Updates  \\n- Compliance  \\n- Conference  \\n- Dermatology  \\n- Federal  \\n- GLP-1  \\n- Immunology  \\n- Infectious Disease  \\n- Inflammatory Bowel Disease  \\n- Market Access  \\n- Maternal Fetal  \\n- Medical Affairs  \\n- Musculoskeletal  \\n- Nephrology  \\n- Neurology  \\n- Nurse Teams  \\n- Nursing  \\n- Omnichannel  \\n- Oncology  \\n- Outsourced Teams  \\n- Patient Engagement  \\n- Precision Medicine  \\n- Primary Care  \\n- Publication  \\n- Qualitative Database  \\n- Rare Disease  \\n- Rheumatoid Arthritis  \\n- RWE + HEOR  \\n- Sales Excellence  \\n- Technology  \\n\\n---\\n\\n### Featured Case Studies  \\n\\n#### High-Volume Patient Support for 8 Oncology Products  \\n[![Oncology patients need caring, knowledgeable support as they navigate complex treatments.](https://cdn.bfldr.com/QO5XXLW2/at/h68884msp97m4v847w8zwp/cancer-patient-and-caregiver.jpeg?format=png&crop=5448%2C3062%2Cx11%2Cy293&width=872&height=490)](https://amplity.com/case-study/high-volume-oncology-patient-support-for-8-products)  \\n**[High-Volume Patient Support for 8 Oncology Products](https://amplity.com/case-study/high-volume-oncology-patient-support-for-8-products)**  \\n* April 24, 2025  \\n* Nursing, Oncology  \\n\\n---\\n\\n#### 23 of 100 Ultra-Rare Disease Patients Found  \\n[![Young patients with ultra-rare diseases often do not achieve normal developmental milestones.](https://cdn.bfldr.com/QO5XXLW2/at/3nn8rs7t8trcrv73wnvt7p6b/young-child-sitting-on-a-couch-with-family.jpeg?format=png&crop=6666%2C2805%2Cx55%2Cy229&width=1920&height=808)](https://amplity.com/case-study/23-percent-ultra-rare-disease-patients-found)  \\n**[23 of 100 Ultra-Rare Disease Patients Found](https://amplity.com/case-study/23-percent-ultra-rare-disease-patients-found)**  \\n* April 24, 2025  \\n* Nurse Teams, Rare Disease  \\n\\n---\\n\\n#### Clinical Nurse Educator Program Differentiates Biosimilar  \\n[![Virtual clinical nurse educator talking through a computer to patient.](https://cdn.bfldr.com/QO5XXLW2/at/m65sps3qnhbvh6365c5mbmkq/virtual-nurse-educator.jpeg?format=png&crop=7743%2C3259%2Cx115%2Cy1014&width=1920&height=808)](https://amplity.com/case-study/clinical-nurse-educator-biosimilar)  \\n**[Clinical Nurse Educator Program Differentiates Biosimilar](https://amplity.com/case-study/clinical-nurse-educator-biosimilar)**  \\n* April 7, 2025  \\n* Biosimilars, Immunology  \\n\\n---\\n\\n#### CNE Workshop Boosts Prescriber Engagement 9x  \\n[![Through a workshop, clinical nurse educators (CNEs) build confidence in talking to healthcare providers (HCPs).](https://cdn.bfldr.com/QO5XXLW2/at/3bhxcjbtxg8m8mvj679x23n/nurse_educatiors_taking_workshop.jpeg?format=png&crop=7429%2C3126%2Cx18%2Cy284&width=1920&height=808)](https://amplity.com/case-study/cne-workshop-boosts-prescriber-engagement-9x)  \\n**[CNE Workshop Boosts Prescriber Engagement 9x](https://amplity.com/case-study/cne-workshop-boosts-prescriber-engagement-9x)**  \\n* December 15, 2024  \\n* Oncology  \\n\\n---\\n\\n#### Omnichannel Product Launch  \\n[![A creative team develops an omnichannel strategy for a pharma product launch.](https://cdn.bfldr.com/QO5XXLW2/at/6h7q9qbsjmhm33bpswxt/creative-team-at-work.png?format=png&crop=1947%2C819%2Cx0%2Cy17&width=1920&height=808)](https://amplity.com/case-study/execute-an-omnichannel-pharma-product-launch)  \\n**[Omnichannel Product Launch](https://amplity.com/case-study/execute-an-omnichannel-pharma-product-launch)**  \\n* December 15, 2024  \\n* Biosimilars, Immunology  \\n\\n---\\n\\n#### A Patient Education Resource for Nurse Navigators  \\n[![Patients receive an “education prescription” to understand their stage of treatment.](https://cdn.bfldr.com/QO5XXLW2/at/q88fbppp5sfvvt38gsgnjg25/family_sitting_on_sofa_looking_at_laptop.jpeg?format=png&crop=8356%2C3516%2Cx21%2Cy1688&width=1920&height=808)](https://amplity.com/case-study/patient-education-resource-nurse-navigators)  \\n**[A Patient Education Resource for Nurse Navigators](https://amplity.com/case-study/patient-education-resource-nurse-navigators)**  \\n* December 15, 2024  \\n* Oncology, Publication  \\n\\n---\\n\\n### Navigation  \\n\\n**Pages:**  \\n- [Page 1](https://amplity.com/our-work/?e-page-fd61e78=1)  \\n- [Page 2](https://amplity.com/our-work/?e-page-fd61e78=2)  \\n- [Page 3](https://amplity.com/our-work/?e-page-fd61e78=3)  \\n- [Next](https://amplity.com/our-work?e-page-fd61e78=2)  \\n\\n---\\n\\n## Powerful Partnerships Start Here  \\n\\n[Get in Touch](https://amplity.com/contact)  \\n\\n![Vector](https://amplity.com/wp-content/uploads/2024/09/Vector.png)  \\n![Book Vector Bottom MD](https://amplity.com/wp-content/uploads/2024/10/book-vector-bottom-md.svg)  \\n![Book Vector Bottom SM](https://amplity.com/wp-content/uploads/2024/10/book-vector-bottom-sm.svg)  \\n  \""
      ]
     },
     "execution_count": 39,
     "metadata": {},
     "output_type": "execute_result"
    }
   ],
   "source": [
    "md_content"
   ]
  },
  {
   "cell_type": "code",
   "execution_count": 40,
   "id": "6ebab186",
   "metadata": {},
   "outputs": [
    {
     "data": {
      "text/plain": [
       "(22,\n",
       " [Document(metadata={'Header 1': 'Amplity - View Our Work'}, page_content='**See Why We’re Quicker, Better, Nicer**'),\n",
       "  Document(metadata={'Header 1': 'Amplity - View Our Work'}, page_content='---'),\n",
       "  Document(metadata={'Header 1': 'Amplity - View Our Work', 'Header 2': 'Case Studies', 'Header 3': 'Our Work'}, page_content='[![Hands on laptop screen](https://cdn.bfldr.com/QO5XXLW2/at/j6rp25rtftwq75cjs9b59jk4/hands-on-laptop-screen.jpeg?format=png&crop=8043%2C3385%2Cx159%2Cy510&width=1920&height=808)](https://amplity.com/case-study/amplity-clinical-engagement-data-insights)\\n**[Unbeatable 21:1 ROI](https://amplity.com/case-study/amplity-clinical-engagement-data-insights)**\\n* October 10, 2024'),\n",
       "  Document(metadata={'Header 1': 'Amplity - View Our Work', 'Header 2': 'Case Studies', 'Header 3': 'Our Work'}, page_content='---'),\n",
       "  Document(metadata={'Header 1': 'Amplity - View Our Work', 'Header 2': 'Case Studies', 'Header 3': 'Topics'}, page_content=\"- AI + NLP\\n- Alzheimer's\\n- Autoimmune\\n- Awards\\n- Biologics\\n- Biosimilars\\n- Clinical Trials\\n- Community Engagement\\n- Company Updates\\n- Compliance\\n- Conference\\n- Dermatology\\n- Federal\\n- GLP-1\\n- Immunology\\n- Infectious Disease\\n- Inflammatory Bowel Disease\\n- Market Access\\n- Maternal Fetal\\n- Medical Affairs\\n- Musculoskeletal\\n- Nephrology\\n- Neurology\\n- Nurse Teams\\n- Nursing\\n- Omnichannel\\n- Oncology\\n- Outsourced Teams\\n- Patient Engagement\\n- Precision Medicine\\n- Primary Care\\n- Publication\\n- Qualitative Database\\n- Rare Disease\\n- Rheumatoid Arthritis\\n- RWE + HEOR\\n- Sales Excellence\\n- Technology\"),\n",
       "  Document(metadata={'Header 1': 'Amplity - View Our Work', 'Header 2': 'Case Studies', 'Header 3': 'Topics'}, page_content='---'),\n",
       "  Document(metadata={'Header 1': 'Amplity - View Our Work', 'Header 2': 'Case Studies', 'Header 3': 'Featured Case Studies', 'Header 4': 'High-Volume Patient Support for 8 Oncology Products'}, page_content='[![Oncology patients need caring, knowledgeable support as they navigate complex treatments.](https://cdn.bfldr.com/QO5XXLW2/at/h68884msp97m4v847w8zwp/cancer-patient-and-caregiver.jpeg?format=png&crop=5448%2C3062%2Cx11%2Cy293&width=872&height=490)](https://amplity.com/case-study/high-volume-oncology-patient-support-for-8-products)\\n**[High-Volume Patient Support for 8 Oncology Products](https://amplity.com/case-study/high-volume-oncology-patient-support-for-8-products)**\\n* April 24, 2025\\n* Nursing, Oncology'),\n",
       "  Document(metadata={'Header 1': 'Amplity - View Our Work', 'Header 2': 'Case Studies', 'Header 3': 'Featured Case Studies', 'Header 4': 'High-Volume Patient Support for 8 Oncology Products'}, page_content='---'),\n",
       "  Document(metadata={'Header 1': 'Amplity - View Our Work', 'Header 2': 'Case Studies', 'Header 3': 'Featured Case Studies', 'Header 4': '23 of 100 Ultra-Rare Disease Patients Found'}, page_content='[![Young patients with ultra-rare diseases often do not achieve normal developmental milestones.](https://cdn.bfldr.com/QO5XXLW2/at/3nn8rs7t8trcrv73wnvt7p6b/young-child-sitting-on-a-couch-with-family.jpeg?format=png&crop=6666%2C2805%2Cx55%2Cy229&width=1920&height=808)](https://amplity.com/case-study/23-percent-ultra-rare-disease-patients-found)\\n**[23 of 100 Ultra-Rare Disease Patients Found](https://amplity.com/case-study/23-percent-ultra-rare-disease-patients-found)**\\n* April 24, 2025\\n* Nurse Teams, Rare Disease'),\n",
       "  Document(metadata={'Header 1': 'Amplity - View Our Work', 'Header 2': 'Case Studies', 'Header 3': 'Featured Case Studies', 'Header 4': '23 of 100 Ultra-Rare Disease Patients Found'}, page_content='---'),\n",
       "  Document(metadata={'Header 1': 'Amplity - View Our Work', 'Header 2': 'Case Studies', 'Header 3': 'Featured Case Studies', 'Header 4': 'Clinical Nurse Educator Program Differentiates Biosimilar'}, page_content='[![Virtual clinical nurse educator talking through a computer to patient.](https://cdn.bfldr.com/QO5XXLW2/at/m65sps3qnhbvh6365c5mbmkq/virtual-nurse-educator.jpeg?format=png&crop=7743%2C3259%2Cx115%2Cy1014&width=1920&height=808)](https://amplity.com/case-study/clinical-nurse-educator-biosimilar)\\n**[Clinical Nurse Educator Program Differentiates Biosimilar](https://amplity.com/case-study/clinical-nurse-educator-biosimilar)**\\n* April 7, 2025\\n* Biosimilars, Immunology'),\n",
       "  Document(metadata={'Header 1': 'Amplity - View Our Work', 'Header 2': 'Case Studies', 'Header 3': 'Featured Case Studies', 'Header 4': 'Clinical Nurse Educator Program Differentiates Biosimilar'}, page_content='---'),\n",
       "  Document(metadata={'Header 1': 'Amplity - View Our Work', 'Header 2': 'Case Studies', 'Header 3': 'Featured Case Studies', 'Header 4': 'CNE Workshop Boosts Prescriber Engagement 9x'}, page_content='[![Through a workshop, clinical nurse educators (CNEs) build confidence in talking to healthcare providers (HCPs).](https://cdn.bfldr.com/QO5XXLW2/at/3bhxcjbtxg8m8mvj679x23n/nurse_educatiors_taking_workshop.jpeg?format=png&crop=7429%2C3126%2Cx18%2Cy284&width=1920&height=808)](https://amplity.com/case-study/cne-workshop-boosts-prescriber-engagement-9x)\\n**[CNE Workshop Boosts Prescriber Engagement 9x](https://amplity.com/case-study/cne-workshop-boosts-prescriber-engagement-9x)**\\n* December 15, 2024\\n* Oncology'),\n",
       "  Document(metadata={'Header 1': 'Amplity - View Our Work', 'Header 2': 'Case Studies', 'Header 3': 'Featured Case Studies', 'Header 4': 'CNE Workshop Boosts Prescriber Engagement 9x'}, page_content='---'),\n",
       "  Document(metadata={'Header 1': 'Amplity - View Our Work', 'Header 2': 'Case Studies', 'Header 3': 'Featured Case Studies', 'Header 4': 'Omnichannel Product Launch'}, page_content='[![A creative team develops an omnichannel strategy for a pharma product launch.](https://cdn.bfldr.com/QO5XXLW2/at/6h7q9qbsjmhm33bpswxt/creative-team-at-work.png?format=png&crop=1947%2C819%2Cx0%2Cy17&width=1920&height=808)](https://amplity.com/case-study/execute-an-omnichannel-pharma-product-launch)\\n**[Omnichannel Product Launch](https://amplity.com/case-study/execute-an-omnichannel-pharma-product-launch)**\\n* December 15, 2024\\n* Biosimilars, Immunology'),\n",
       "  Document(metadata={'Header 1': 'Amplity - View Our Work', 'Header 2': 'Case Studies', 'Header 3': 'Featured Case Studies', 'Header 4': 'Omnichannel Product Launch'}, page_content='---'),\n",
       "  Document(metadata={'Header 1': 'Amplity - View Our Work', 'Header 2': 'Case Studies', 'Header 3': 'Featured Case Studies', 'Header 4': 'A Patient Education Resource for Nurse Navigators'}, page_content='[![Patients receive an “education prescription” to understand their stage of treatment.](https://cdn.bfldr.com/QO5XXLW2/at/q88fbppp5sfvvt38gsgnjg25/family_sitting_on_sofa_looking_at_laptop.jpeg?format=png&crop=8356%2C3516%2Cx21%2Cy1688&width=1920&height=808)](https://amplity.com/case-study/patient-education-resource-nurse-navigators)\\n**[A Patient Education Resource for Nurse Navigators](https://amplity.com/case-study/patient-education-resource-nurse-navigators)**\\n* December 15, 2024\\n* Oncology, Publication'),\n",
       "  Document(metadata={'Header 1': 'Amplity - View Our Work', 'Header 2': 'Case Studies', 'Header 3': 'Featured Case Studies', 'Header 4': 'A Patient Education Resource for Nurse Navigators'}, page_content='---'),\n",
       "  Document(metadata={'Header 1': 'Amplity - View Our Work', 'Header 2': 'Case Studies', 'Header 3': 'Navigation'}, page_content='**Pages:**\\n- [Page 1](https://amplity.com/our-work/?e-page-fd61e78=1)\\n- [Page 2](https://amplity.com/our-work/?e-page-fd61e78=2)\\n- [Page 3](https://amplity.com/our-work/?e-page-fd61e78=3)\\n- [Next](https://amplity.com/our-work?e-page-fd61e78=2)'),\n",
       "  Document(metadata={'Header 1': 'Amplity - View Our Work', 'Header 2': 'Case Studies', 'Header 3': 'Navigation'}, page_content='---'),\n",
       "  Document(metadata={'Header 1': 'Amplity - View Our Work', 'Header 2': 'Powerful Partnerships Start Here'}, page_content='[Get in Touch](https://amplity.com/contact)'),\n",
       "  Document(metadata={'Header 1': 'Amplity - View Our Work', 'Header 2': 'Powerful Partnerships Start Here'}, page_content='![Vector](https://amplity.com/wp-content/uploads/2024/09/Vector.png)\\n![Book Vector Bottom MD](https://amplity.com/wp-content/uploads/2024/10/book-vector-bottom-md.svg)\\n![Book Vector Bottom SM](https://amplity.com/wp-content/uploads/2024/10/book-vector-bottom-sm.svg)')])"
      ]
     },
     "execution_count": 40,
     "metadata": {},
     "output_type": "execute_result"
    }
   ],
   "source": [
    "md_header_splits = markdown_splitter.split_text(md_content)\n",
    "len(md_header_splits), md_header_splits"
   ]
  },
  {
   "cell_type": "code",
   "execution_count": 14,
   "id": "d01fedb2",
   "metadata": {},
   "outputs": [
    {
     "data": {
      "text/plain": [
       "Document(metadata={}, page_content=\"```markdown\\n# View Our Work - See Why We’re Quicker, Better, Nicer - Amplity\\n\\n## Case Studies\\n\\n### Our Work\\n[![Hands on laptop screen](https://cdn.bfldr.com/QO5XXLW2/at/j6rp25rtftwq75cjs9b59jk4/hands-on-laptop-screen.jpeg?format=png&crop=8043%2C3385%2Cx159%2Cy510&width=1920&height=808)](https://amplity.com/case-study/amplity-clinical-engagement-data-insights)\\n**[Read Article](https://amplity.com/case-study/amplity-clinical-engagement-data-insights)**\\n![arrow](https://amplity.com/wp-content/uploads/2024/09/contact_arrow_white.png)\\n\\n---\\n\\n### Amplity Sales\\n![Sales Icon](https://amplity.com/wp-content/uploads/2025/03/business-sales-icon.svg)\\n**Focus Areas:**\\n- Immunology\\n- Oncology\\n\\n---\\n\\n## Case Studies Overview\\n\\n### [Unbeatable 21:1 ROI](https://amplity.com/case-study/amplity-clinical-engagement-data-insights)\\n- **Date:** October 10, 2024\\n\\n---\\n\\n## Topics\\n- AI + NLP\\n- Alzheimer's\\n- Autoimmune\\n- Awards\\n- Biologics\\n- Biosimilars\\n- Clinical Trials\\n- Community Engagement\\n- Company Updates\\n- Compliance\\n- Conference\\n- Dermatology\\n- Federal\\n- GLP-1\\n- Immunology\\n- Infectious Disease\\n- Inflammatory Bowel Disease\\n- Market Access\\n- Maternal Fetal\\n- Medical Affairs\\n- Musculoskeletal\\n- Nephrology\\n- Neurology\\n- Nurse Teams\\n- Nursing\\n- Omnichannel\\n- Oncology\\n- Outsourced Teams\\n- Patient Engagement\\n- Precision Medicine\\n- Primary Care\\n- Publication\\n- Qualitative Database\\n- Rare Disease\\n- Rheumatoid Arthritis\\n- RWE + HEOR\\n- Sales Excellence\\n- Technology\\n\\n---\\n\\n## Case Studies by Category\\n\\n### Medical\\n\\n#### [23 of 100 Ultra-Rare Disease Patients Found](https://amplity.com/case-study/23-percent-ultra-rare-disease-patients-found)\\n- **Date:** April 24, 2025\\n- **Focus Areas:**\\n- Nurse Teams\\n- Rare Disease\\n\\n[![Young patients with ultra-rare diseases](https://cdn.bfldr.com/QO5XXLW2/at/3nn8rs7t8trcrv73wnvt7p6b/young-child-sitting-on-a-couch-with-family.jpeg?format=png&crop=6666%2C2805%2Cx55%2Cy229&width=1920&height=808)](https://amplity.com/case-study/23-percent-ultra-rare-disease-patients-found)\\n**[Read More](https://amplity.com/case-study/23-percent-ultra-rare-disease-patients-found)**\\n![arrow](https://amplity.com/wp-content/uploads/2024/09/contact_arrow_white.png)\\n\\n---\\n\\n#### [Ultra-Rare Disease Testing Jumps](https://amplity.com/case-study/ultra-rare-disease-testing-jumps)\\n- **Date:** December 14, 2024\\n- **Focus Areas:**\\n- Patient Engagement\\n- Rare Disease\\n\\n[![Nurse and patient looking at screen](https://cdn.bfldr.com/QO5XXLW2/at/7hn3jqp3gvqbgrcmjmrqh3tz/nurse-and-patient-lookng-at-screen.jpeg?format=png&crop=6499%2C2735%2Cx174%2Cy812&width=1920&height=808)](https://amplity.com/case-study/ultra-rare-disease-testing-jumps)\\n**[Read More](https://amplity.com/case-study/ultra-rare-disease-testing-jumps)**\\n![arrow](https://amplity.com/wp-content/uploads/2024/09/contact_arrow_white.png)\\n\\n---\\n\\n### Intel\\n\\n#### [AnswerY Delivers 19:1 ROI](https://amplity.com/case-study/next-level-intel-for-rare-disease)\\n- **Date:** December 14, 2024\\n- **Focus Areas:**\\n- Neurology\\n- Rare Disease\\n\\n[![Girl with bear](https://cdn.bfldr.com/QO5XXLW2/at/f68p38k6nhp6gqrhqz74kt/girl-with-bear.jpeg?format=png&crop=5925%2C2494%2Cx55%2Cy237&width=1920&height=808)](https://amplity.com/case-study/next-level-intel-for-rare-disease)\\n**[Read More](https://amplity.com/case-study/next-level-intel-for-rare-disease)**\\n![arrow](https://amplity.com/wp-content/uploads/2024/09/contact_arrow_white.png)\\n\\n---\\n\\n### Sales\\n\\n#### [63 Rare Disease Patient Starts](https://amplity.com/case-study/63-rare-disease-patient-starts)\\n- **Date:** December 14, 2024\\n- **Focus Areas:**\\n- Neurology\\n- Rare Disease\\n\\n[![Doctor checking baby heart rate](https://cdn.bfldr.com/QO5XXLW2/at/kn93g8kg2xsjk3x8cpsk9kb/doctor-checking-baby-heart-rate.jpeg?format=png&crop=7856%2C3306%2Cx761%2Cy413&width=1920&height=808)](https://amplity.com/case-study/63-rare-disease-patient-starts)\\n**[Read More](https://amplity.com/case-study/63-rare-disease-patient-starts)**\\n![arrow](https://amplity.com/wp-content/uploads/2024/09/contact_arrow_white.png)\\n\\n---\\n\\n### Clinical Trials\\n\\n#### [Trial Ends 3 Months Early](https://amplity.com/case-study/trial-ends-3-months-early)\\n- **Date:** December 13, 2024\\n- **Focus Areas:**\\n- Clinical Trials\\n- Rare Disease\\n\\n[![Business lady talking to HCP](https://cdn.bfldr.com/QO5XXLW2/at/g5swgw5mbzt67jj4sv7gk6kv/business-lady-talking-to-HCP.jpeg?format=png&crop=4798%2C2019%2Cx49%2Cy630&width=1920&height=808)](https://amplity.com/case-study/trial-ends-3-months-early)\\n**[Read More](https://amplity.com/case-study/trial-ends-3-months-early)**\\n![arrow](https://amplity.com/wp-content/uploads/2024/09/contact_arrow_white.png)\\n\\n---\\n\\n## Powerful Partnerships Start Here\\n[Get in Touch](https://amplity.com/contact)\\n\\n![Vector](https://amplity.com/wp-content/uploads/2024/09/Vector.png)\\n![Book Vector Bottom MD](https://amplity.com/wp-content/uploads/2024/10/book-vector-bottom-md.svg)\\n![Book Vector Bottom MD](https://amplity.com/wp-content/uploads/2024/10/book-vector-bottom-md.svg)\\n![Book Vector Bottom SM](https://amplity.com/wp-content/uploads/2024/10/book-vector-bottom-sm.svg)\\n```\")"
      ]
     },
     "execution_count": 14,
     "metadata": {},
     "output_type": "execute_result"
    }
   ],
   "source": [
    "md_header_splits[0]"
   ]
  },
  {
   "cell_type": "markdown",
   "id": "a87329b0",
   "metadata": {},
   "source": [
    "We might want to strip out Markdown links, invalid characters etc"
   ]
  },
  {
   "cell_type": "code",
   "execution_count": 74,
   "id": "7bbaf793",
   "metadata": {},
   "outputs": [],
   "source": [
    "def strip_markdown_hyperlinks(text):\n",
    "    strip_pipeline = [\n",
    "        r\"\\[.*?\\]\\([^)]+\\)\", r\"\\]?\\([^)]+\\)\", r\"---\", r\"\\*{1,4}\\n\\*?\", r\"\\n\\*\", r\"\\!\\n!\\n!\", r\"\\n\\-\"\n",
    "    ]\n",
    "    # Hyperlink, partial link, unwanted characters\n",
    "    result = text\n",
    "    \n",
    "    for pattern in strip_pipeline:\n",
    "        result = sub(pattern, \"\", result)\n",
    "    \n",
    "    # Step 3: Strip whitespace and check if empty\n",
    "    result = result.strip()\n",
    "    return None if not result else result"
   ]
  },
  {
   "cell_type": "code",
   "execution_count": 75,
   "id": "e590b7b9",
   "metadata": {},
   "outputs": [],
   "source": [
    "cleaned_docs = []\n",
    "\n",
    "for doc in md_header_splits:\n",
    "    new_doc = doc.model_copy()\n",
    "    page_content = new_doc.page_content\n",
    "    cleaned_content = strip_markdown_hyperlinks(text=page_content)\n",
    "    \n",
    "    if cleaned_content:\n",
    "        new_doc.page_content = cleaned_content\n",
    "        cleaned_docs.append(new_doc)\n",
    "    "
   ]
  },
  {
   "cell_type": "code",
   "execution_count": 76,
   "id": "f7b6089d",
   "metadata": {},
   "outputs": [
    {
     "data": {
      "text/plain": [
       "[Document(metadata={'Header 1': 'Amplity - View Our Work'}, page_content='**See Why We’re Quicker, Better, Nicer**'),\n",
       " Document(metadata={'Header 1': 'Amplity - View Our Work', 'Header 2': 'Case Studies', 'Header 3': 'Our Work'}, page_content='October 10, 2024'),\n",
       " Document(metadata={'Header 1': 'Amplity - View Our Work', 'Header 2': 'Case Studies', 'Header 3': 'Topics'}, page_content=\"- AI + NLP Alzheimer's Autoimmune Awards Biologics Biosimilars Clinical Trials Community Engagement Company Updates Compliance Conference Dermatology Federal GLP-1 Immunology Infectious Disease Inflammatory Bowel Disease Market Access Maternal Fetal Medical Affairs Musculoskeletal Nephrology Neurology Nurse Teams Nursing Omnichannel Oncology Outsourced Teams Patient Engagement Precision Medicine Primary Care Publication Qualitative Database Rare Disease Rheumatoid Arthritis RWE + HEOR Sales Excellence Technology\"),\n",
       " Document(metadata={'Header 1': 'Amplity - View Our Work', 'Header 2': 'Case Studies', 'Header 3': 'Featured Case Studies', 'Header 4': 'High-Volume Patient Support for 8 Oncology Products'}, page_content='April 24, 2025 Nursing, Oncology'),\n",
       " Document(metadata={'Header 1': 'Amplity - View Our Work', 'Header 2': 'Case Studies', 'Header 3': 'Featured Case Studies', 'Header 4': '23 of 100 Ultra-Rare Disease Patients Found'}, page_content='April 24, 2025 Nurse Teams, Rare Disease'),\n",
       " Document(metadata={'Header 1': 'Amplity - View Our Work', 'Header 2': 'Case Studies', 'Header 3': 'Featured Case Studies', 'Header 4': 'Clinical Nurse Educator Program Differentiates Biosimilar'}, page_content='April 7, 2025 Biosimilars, Immunology'),\n",
       " Document(metadata={'Header 1': 'Amplity - View Our Work', 'Header 2': 'Case Studies', 'Header 3': 'Featured Case Studies', 'Header 4': 'CNE Workshop Boosts Prescriber Engagement 9x'}, page_content='December 15, 2024 Oncology'),\n",
       " Document(metadata={'Header 1': 'Amplity - View Our Work', 'Header 2': 'Case Studies', 'Header 3': 'Featured Case Studies', 'Header 4': 'Omnichannel Product Launch'}, page_content='December 15, 2024 Biosimilars, Immunology'),\n",
       " Document(metadata={'Header 1': 'Amplity - View Our Work', 'Header 2': 'Case Studies', 'Header 3': 'Featured Case Studies', 'Header 4': 'A Patient Education Resource for Nurse Navigators'}, page_content='December 15, 2024 Oncology, Publication'),\n",
       " Document(metadata={'Header 1': 'Amplity - View Our Work', 'Header 2': 'Case Studies', 'Header 3': 'Navigation'}, page_content='**Pages:-')]"
      ]
     },
     "execution_count": 76,
     "metadata": {},
     "output_type": "execute_result"
    }
   ],
   "source": [
    "cleaned_docs"
   ]
  },
  {
   "cell_type": "code",
   "execution_count": null,
   "id": "1bddd84f",
   "metadata": {},
   "outputs": [],
   "source": []
  }
 ],
 "metadata": {
  "kernelspec": {
   "display_name": "learning-bHz_lsOL",
   "language": "python",
   "name": "python3"
  },
  "language_info": {
   "codemirror_mode": {
    "name": "ipython",
    "version": 3
   },
   "file_extension": ".py",
   "mimetype": "text/x-python",
   "name": "python",
   "nbconvert_exporter": "python",
   "pygments_lexer": "ipython3",
   "version": "3.10.5"
  }
 },
 "nbformat": 4,
 "nbformat_minor": 5
}
