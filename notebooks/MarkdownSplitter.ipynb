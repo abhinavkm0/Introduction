{
 "cells": [
  {
   "cell_type": "code",
   "execution_count": 1,
   "id": "066643ae",
   "metadata": {},
   "outputs": [],
   "source": [
    "from os import listdir"
   ]
  },
  {
   "cell_type": "code",
   "execution_count": 2,
   "id": "87731ccb",
   "metadata": {},
   "outputs": [],
   "source": [
    "md_file_dir = \"../assets/docs/amplity_markdown_files\"\n",
    "\n",
    "md_files = listdir(md_file_dir)"
   ]
  },
  {
   "cell_type": "code",
   "execution_count": 3,
   "id": "4ac9f439",
   "metadata": {},
   "outputs": [
    {
     "data": {
      "text/plain": [
       "['2851.md',\n",
       " '2849.md',\n",
       " '2847.md',\n",
       " '2850.md',\n",
       " '2846.md',\n",
       " '2848.md',\n",
       " '2845.md',\n",
       " 'test.md']"
      ]
     },
     "execution_count": 3,
     "metadata": {},
     "output_type": "execute_result"
    }
   ],
   "source": [
    "md_files"
   ]
  },
  {
   "cell_type": "code",
   "execution_count": 4,
   "id": "173f3267",
   "metadata": {},
   "outputs": [],
   "source": [
    "md_file_content = {}"
   ]
  },
  {
   "cell_type": "code",
   "execution_count": 5,
   "id": "bc435e7c",
   "metadata": {},
   "outputs": [],
   "source": [
    "for file_name in md_files:\n",
    "    with open(f\"{md_file_dir}/{file_name}\", \"r\") as f:\n",
    "        file_content = f.read()\n",
    "        \n",
    "    md_file_content[file_name] = file_content"
   ]
  },
  {
   "cell_type": "code",
   "execution_count": 6,
   "id": "dfdd7fbf",
   "metadata": {},
   "outputs": [
    {
     "data": {
      "text/plain": [
       "'```markdown\\\\n# AnswerY Delivers 19:1 ROI - Amplity\\\\n\\\\n![Girl with bear](https://cdn.bfldr.com/QO5XXLW2/at/f68p38k6nhp6gqrhqz74kt/girl-with-bear.jpeg?format=png&crop=5925%2C2494%2Cx55%2Cy237&width=1920&height=808)\\\\n\\\\n## AnswerY Delivers 19:1 ROI\\\\n\\\\n**Proprietary database + platform enable remote sales team to engage with an expanded list of HCPs who are treating patients earlier in their journey, specifically those presenting with multiple symptoms suggestive of the targeted rare disease. The result was faster treatment + 19:1 ROI for the client.**\\\\n\\\\n[Download PDF](#)\\\\n\\\\n---\\\\n\\\\n## The Power of This Partnership\\\\n\\\\n### Key Metrics\\\\n\\\\n- **2 Weeks**: To hit annual patient identification goal.  \\\\n- **19:1 ROI**: On AnswerY investment.\\\\n\\\\n---\\\\n\\\\n## The Ask\\\\n\\\\n### Client  \\\\n**U.S. Mid-Sized BioPharma**\\\\n\\\\n![Journey Mapping](https://cdn.bfldr.com/QO5XXLW2/at/nb4ttkcj998f6tc6zp3rsff/Journey_Mapping.jpg?format=png&crop=3104%2C2550%2Cx98%2Cy0&width=471&height=387)\\\\n\\\\n#### Objectives:\\\\n1. **Pinpoint Rare Disease Patients**  \\\\n   Identify + prioritize HCPs to support a rare neurological disease medication launch.  \\\\n2. **Uncover New Potential Patients**  \\\\n   Enhance patient journey mapping to speed up therapy initiation + improve outcomes.\\\\n\\\\n---\\\\n\\\\n## The Approach\\\\n\\\\n### Tools  \\\\n- **AnswerY**  \\\\n- **Remote Team**  \\\\n- **Patient Finding**\\\\n\\\\n![Small girl ill in hospital bed](https://cdn.bfldr.com/QO5XXLW2/at/q9sb3krxmn4n6sv27f5gn/small-girl-ill-in-hospital-bed.jpeg?format=png&crop=2397%2C1969%2Cx968%2Cy27&width=471&height=387)\\\\n\\\\n#### Strategies:\\\\n1. **Symptom Intersection Strategy**  \\\\n   Pinpoint patients with specific symptom profiles by identifying the right HCPs.  \\\\n2. **Engage Right HCPs With Unique Dataset**  \\\\n   Deploy remote sales team to use next-level intel to uncover patients who may have been overlooked in traditional claims data or ICD codes.\\\\n\\\\n---\\\\n\\\\n## The Results\\\\n\\\\n### Outcome  \\\\n- **Rare Patients Identified**  \\\\n- **Fast Tracked Care**  \\\\n- **Team Alignment**\\\\n\\\\n![19:1 ROI](https://cdn.bfldr.com/QO5XXLW2/at/jhrgkh9f37jg29qb4rmfpg8j/19-1.png?format=png&crop=3160%2C2596%2Cx107%2Cy0&width=471&height=387)\\\\n\\\\n#### Key Achievements:\\\\n1. **Quick Patient Identification**  \\\\n   Uncovered more rare disease patients than company\\\\u2019s initial projection in 2 weeks by identifying HCPs not found in more commodified datasets, e.g., claims.  \\\\n2. **19:1 ROI**  \\\\n   Delivered significant return on investment.  \\\\n3. **Fast Tracked Treatment**  \\\\n   Improved HCP\\\\u2019s ability to identify patients earlier in their diagnosis, leading to quicker treatment + better outcomes.  \\\\n4. **Data + Sales Synergy**  \\\\n   Drove exceptional results by combining AnswerY with high-performing remote sales team.\\\\n\\\\n---\\\\n\\\\n## Related Content\\\\n\\\\n### Medical\\\\n\\\\n#### [23 of 100 Ultra-Rare Disease Patients Found](https://amplity.com/case-study/23-percent-ultra-rare-disease-patients-found)  \\\\n**April 24, 2025**  \\\\n\\\\n![Young child sitting on a couch with family](https://cdn.bfldr.com/QO5XXLW2/at/3nn8rs7t8trcrv73wnvt7p6b/young-child-sitting-on-a-couch-with-family.jpeg?format=png&crop=6666%2C2805%2Cx55%2Cy229&width=1920&height=808)  \\\\n[Read Case Study](https://amplity.com/case-study/23-percent-ultra-rare-disease-patients-found)\\\\n\\\\n---\\\\n\\\\n### Research\\\\n\\\\n#### [Myasthenia Gravis Crisis: Treatment Challenges & Triggers](https://amplity.com/news/myasthenia-gravis-crisis-treatment-challenges)  \\\\n**May 21, 2025**  \\\\n\\\\n![Muscle Weakness and Fatigue](https://cdn.bfldr.com/QO5XXLW2/at/tqf37f4474vg675fmzt9nw2v/Muscle_Weakness_and_Fatigue.jpeg?format=png&crop=5493%2C3087%2Cx378%2Cy19&width=872&height=490)  \\\\n[Explore Research](https://amplity.com/news/myasthenia-gravis-crisis-treatment-challenges)\\\\n\\\\n#### [NLP Unlocks Patterns In Myasthenia Gravis Progression](https://amplity.com/news/nlp-unlocks-patterns-in-myasthenia-gravis-progression)  \\\\n**May 21, 2025**  \\\\n\\\\n![Myasthenia Gravis](https://cdn.bfldr.com/QO5XXLW2/at/sj6bxt2trzgzh6knh7x7rk3/myasthenia-gravis.jpeg?format=png&crop=7019%2C3944%2Cx865%2Cy40&width=872&height=490)  \\\\n[Explore Research](https://amplity.com/news/nlp-unlocks-patterns-in-myasthenia-gravis-progression)\\\\n\\\\n---\\\\n\\\\n## Explore More\\\\n\\\\n- [Nurse Teams](https://amplity.com/our-work?e-filter-fd61e78-topic=nurse-teams)  \\\\n- [Rare Disease](https://amplity.com/our-work?e-filter-fd61e78-topic=rare-disease)  \\\\n- [AI + NLP](https://amplity.com/news?e-filter-87fc013-topic=ai-nlp)  \\\\n- [RWE + HEOR](https://amplity.com/news?e-filter-87fc013-topic=rwe-heor)  \\\\n- [Neurology](https://amplity.com/news?e-filter-87fc013-topic=neurology)\\\\n```'"
      ]
     },
     "execution_count": 6,
     "metadata": {},
     "output_type": "execute_result"
    }
   ],
   "source": [
    "md_file_content[md_files[-1]]"
   ]
  },
  {
   "cell_type": "code",
   "execution_count": 7,
   "id": "9e61ac05",
   "metadata": {},
   "outputs": [],
   "source": [
    "from IPython.display import display, Markdown"
   ]
  },
  {
   "cell_type": "code",
   "execution_count": 8,
   "id": "766296cb",
   "metadata": {},
   "outputs": [],
   "source": [
    "# display(Markdown(md_file_content[md_files[-1]]))"
   ]
  },
  {
   "cell_type": "code",
   "execution_count": 9,
   "id": "61c15db7",
   "metadata": {},
   "outputs": [],
   "source": [
    "headers_to_split_on = [\n",
    "    (\"#\", \"Header 1\"),\n",
    "    (\"##\", \"Header 2\"),\n",
    "    (\"###\", \"Header 3\"),\n",
    "    (\"####\", \"Header 4\"),\n",
    "]"
   ]
  },
  {
   "cell_type": "code",
   "execution_count": 10,
   "id": "e956a114",
   "metadata": {},
   "outputs": [],
   "source": [
    "from langchain_text_splitters import MarkdownHeaderTextSplitter\n",
    "\n",
    "markdown_splitter = MarkdownHeaderTextSplitter(headers_to_split_on)#, return_each_line=True)"
   ]
  },
  {
   "cell_type": "markdown",
   "id": "bb0a166c",
   "metadata": {},
   "source": [
    "We need to strip out the codeblock"
   ]
  },
  {
   "cell_type": "code",
   "execution_count": 11,
   "id": "0f567dae",
   "metadata": {},
   "outputs": [],
   "source": [
    "from re import sub"
   ]
  },
  {
   "cell_type": "code",
   "execution_count": 12,
   "id": "4a424750",
   "metadata": {},
   "outputs": [
    {
     "data": {
      "text/plain": [
       "(5766,\n",
       " '```markdown\\n# Amplity: Pharma At Its Best  \\n**Quicker, Better, Nicer**  \\n\\n---\\n\\n## Table of Contents ')"
      ]
     },
     "execution_count": 12,
     "metadata": {},
     "output_type": "execute_result"
    }
   ],
   "source": [
    "md_content = md_file_content[md_files[-2]]\n",
    "len(md_content), md_content[:100]"
   ]
  },
  {
   "cell_type": "code",
   "execution_count": 13,
   "id": "e39facfc",
   "metadata": {},
   "outputs": [],
   "source": [
    "md_content = \": # Amplity Pharma At Its Best Quicker, Better, Nicer --- ## Pharma at Its Best ### Quicker. Better. Nicer. Your full-service go-to partners delivering both flexible and specialized medical and commercial services. No matter where you are in the lifecycle of your drug, we scale with ease to maximize resources and improve impact. Our people-driven, tech-enabled DNA fuels everything we do. --- ## Services ### Medical  Clinical Experts #### Medical Explorehttpsamplity.commedical!httpsamplity.comwp-contentuploads202409Group-215.png Learn Morehttpsamplity.commedical ### Strategic Sales Teams #### Sales Explorehttpsamplity.comsales!httpsamplity.comwp-contentuploads202412business-sales-icon-md.svg Learn Morehttpsamplity.comsales ### DATA  TECH #### Intel Explorehttpsamplity.comintel!httpsamplity.comwp-contentuploads202409Group-213.png Learn Morehttpsamplity.comintel ### Access  Content #### Comms Explorehttpsamplity.comcomms!httpsamplity.comwp-contentuploads202409Group-214.png Learn Morehttpsamplity.comcomms ### Advanced Learning #### Learn Explorehttpsamplity.comlearn!httpsamplity.comwp-contentuploads202410learn_tablet.svg Learn Morehttpsamplity.comlearn --- ## Our Specialty ### Leaders In Oncology, Rare Disease  Specialty Our team maintains a deep and up-to-the-minute understanding of the latest developments and treatments within the ever-evolving fields of oncology, rare disease, and specialty medicine.!OUR-Specialty.pnghttpsamplity.comwp-contentuploadselementorthumbsOUR-Specialty-7j25edkxuo3ziujc87otlasqzk1cn4f8e8k5qh6rbu6.png!OUR-Specialty_2.pnghttpsamplity.comwp-contentuploadselementorthumbsOUR-Specialty_2-r3tc8jlfuc3i4btg3gd4ektelmdpiqlxs4cowwty6a.png Explorehttpsamplity.comexpertise --- ## Allies in Excellence ### Key Metrics - 98 We Get It Right the First Time - 60 Countries Across the Globe - 7 Years Average Client Retention Learn Morehttpsamplity.comwho-we-are --- ## Why Amplity ### Core Values - Patient First! httpscdn.bfldr.comQO5XXLW2athsb7g4q33kt6nwjmsh5xxb24Patients_First_Icon.svg Learn Morehttpsamplity.comwho-we-are#patients-first - Expertise Above All! httpscdn.bfldr.comQO5XXLW2atfmq38mz6m5f8v245skqjj6fExpertise_Above_All_Icon.svg Learn Morehttpsamplity.comexpertise - Intel-Fueled! httpscdn.bfldr.comQO5XXLW2at6xjbr7qq4pk6hm4xn8qk93zIntel_Fueled_Icon.svg Learn Morehttpsamplity.comwho-we-are - Results Driven! httpscdn.bfldr.comQO5XXLW2atk4cbkjq7cw2c7grfkppr49jrResults_Driven_Icon.svg Learn Morehttpsamplity.comwho-we-are - Flexible  Scalable! \""
   ]
  },
  {
   "cell_type": "code",
   "execution_count": 14,
   "id": "e61bb206",
   "metadata": {},
   "outputs": [],
   "source": [
    "md_content = sub(r'```(?!markdown\\n)|\\bmarkdown\\b|```markdown\\n', \"\", md_content)"
   ]
  },
  {
   "cell_type": "code",
   "execution_count": 15,
   "id": "6ebab186",
   "metadata": {},
   "outputs": [
    {
     "data": {
      "text/plain": [
       "(1,\n",
       " [Document(metadata={}, page_content=': # Amplity Pharma At Its Best Quicker, Better, Nicer --- ## Pharma at Its Best ### Quicker. Better. Nicer. Your full-service go-to partners delivering both flexible and specialized medical and commercial services. No matter where you are in the lifecycle of your drug, we scale with ease to maximize resources and improve impact. Our people-driven, tech-enabled DNA fuels everything we do. --- ## Services ### Medical  Clinical Experts #### Medical Explorehttpsamplity.commedical!httpsamplity.comwp-contentuploads202409Group-215.png Learn Morehttpsamplity.commedical ### Strategic Sales Teams #### Sales Explorehttpsamplity.comsales!httpsamplity.comwp-contentuploads202412business-sales-icon-md.svg Learn Morehttpsamplity.comsales ### DATA  TECH #### Intel Explorehttpsamplity.comintel!httpsamplity.comwp-contentuploads202409Group-213.png Learn Morehttpsamplity.comintel ### Access  Content #### Comms Explorehttpsamplity.comcomms!httpsamplity.comwp-contentuploads202409Group-214.png Learn Morehttpsamplity.comcomms ### Advanced Learning #### Learn Explorehttpsamplity.comlearn!httpsamplity.comwp-contentuploads202410learn_tablet.svg Learn Morehttpsamplity.comlearn --- ## Our Specialty ### Leaders In Oncology, Rare Disease  Specialty Our team maintains a deep and up-to-the-minute understanding of the latest developments and treatments within the ever-evolving fields of oncology, rare disease, and specialty medicine.!OUR-Specialty.pnghttpsamplity.comwp-contentuploadselementorthumbsOUR-Specialty-7j25edkxuo3ziujc87otlasqzk1cn4f8e8k5qh6rbu6.png!OUR-Specialty_2.pnghttpsamplity.comwp-contentuploadselementorthumbsOUR-Specialty_2-r3tc8jlfuc3i4btg3gd4ektelmdpiqlxs4cowwty6a.png Explorehttpsamplity.comexpertise --- ## Allies in Excellence ### Key Metrics - 98 We Get It Right the First Time - 60 Countries Across the Globe - 7 Years Average Client Retention Learn Morehttpsamplity.comwho-we-are --- ## Why Amplity ### Core Values - Patient First! httpscdn.bfldr.comQO5XXLW2athsb7g4q33kt6nwjmsh5xxb24Patients_First_Icon.svg Learn Morehttpsamplity.comwho-we-are#patients-first - Expertise Above All! httpscdn.bfldr.comQO5XXLW2atfmq38mz6m5f8v245skqjj6fExpertise_Above_All_Icon.svg Learn Morehttpsamplity.comexpertise - Intel-Fueled! httpscdn.bfldr.comQO5XXLW2at6xjbr7qq4pk6hm4xn8qk93zIntel_Fueled_Icon.svg Learn Morehttpsamplity.comwho-we-are - Results Driven! httpscdn.bfldr.comQO5XXLW2atk4cbkjq7cw2c7grfkppr49jrResults_Driven_Icon.svg Learn Morehttpsamplity.comwho-we-are - Flexible  Scalable!')])"
      ]
     },
     "execution_count": 15,
     "metadata": {},
     "output_type": "execute_result"
    }
   ],
   "source": [
    "md_header_splits = markdown_splitter.split_text(md_content)\n",
    "len(md_header_splits), md_header_splits"
   ]
  },
  {
   "cell_type": "code",
   "execution_count": null,
   "id": "d01fedb2",
   "metadata": {},
   "outputs": [],
   "source": [
    "md_header_splits[0]"
   ]
  },
  {
   "cell_type": "markdown",
   "id": "a87329b0",
   "metadata": {},
   "source": [
    "We might want to strip out Markdown links, invalid characters etc"
   ]
  },
  {
   "cell_type": "code",
   "execution_count": null,
   "id": "7bbaf793",
   "metadata": {},
   "outputs": [],
   "source": [
    "# def strip_markdown_hyperlinks(text):\n",
    "#     strip_pipeline = [\n",
    "#         r\"---\", r\"\\*{1,4}\\n\\*?\", r\"\\n\\*\", r\"\\!\\n!\\n!\", r\"\\n\\-\"\n",
    "#     ]\n",
    "#     # Hyperlink, partial link, unwanted characters\n",
    "#     result = text\n",
    "    \n",
    "#     for pattern in strip_pipeline:\n",
    "#         result = sub(pattern, \"\", result)\n",
    "    \n",
    "#     # Step 3: Strip whitespace and check if empty\n",
    "#     result = result.strip()\n",
    "#     return None if not result else result"
   ]
  },
  {
   "cell_type": "code",
   "execution_count": null,
   "id": "03638e33",
   "metadata": {},
   "outputs": [],
   "source": [
    "def _prepend_headers(doc):\n",
    "    \"\"\"Prepends header values to the page_content for better context\n",
    "\n",
    "    Args:\n",
    "        doc (Document): Document containing markdown content and header metadata\n",
    "\n",
    "    Returns:\n",
    "        Document: Document with metadata prepended\n",
    "    \"\"\"\n",
    "    header_str = \"\"\n",
    "    for level in ['Header 1', 'Header 2', 'Header 3', 'Header 4']:\n",
    "        if level in doc.metadata:\n",
    "            value = doc.metadata[level]\n",
    "            header_str += f\"{level}: {value}\\n\"\n",
    "    doc.page_content = header_str + f\"Content: {doc.page_content}\"\n",
    "    return doc"
   ]
  },
  {
   "cell_type": "code",
   "execution_count": null,
   "id": "e590b7b9",
   "metadata": {},
   "outputs": [],
   "source": [
    "cleaned_docs = []\n",
    "\n",
    "for doc in md_header_splits:\n",
    "    new_doc = doc.model_copy()\n",
    "    page_content = new_doc.page_content\n",
    "    # cleaned_content = strip_markdown_hyperlinks(text=page_content)\n",
    "    \n",
    "    if page_content:\n",
    "        new_doc.page_content = page_content\n",
    "        new_doc = _prepend_headers(doc=new_doc)\n",
    "        cleaned_docs.append(new_doc)\n",
    "    "
   ]
  },
  {
   "cell_type": "code",
   "execution_count": null,
   "id": "f7b6089d",
   "metadata": {},
   "outputs": [],
   "source": [
    "for doc in cleaned_docs:\n",
    "    print(doc.page_content)\n",
    "    print(\"#\"*100)"
   ]
  },
  {
   "cell_type": "code",
   "execution_count": null,
   "id": "1bddd84f",
   "metadata": {},
   "outputs": [],
   "source": []
  }
 ],
 "metadata": {
  "kernelspec": {
   "display_name": "learning-bHz_lsOL",
   "language": "python",
   "name": "python3"
  },
  "language_info": {
   "codemirror_mode": {
    "name": "ipython",
    "version": 3
   },
   "file_extension": ".py",
   "mimetype": "text/x-python",
   "name": "python",
   "nbconvert_exporter": "python",
   "pygments_lexer": "ipython3",
   "version": "3.10.5"
  }
 },
 "nbformat": 4,
 "nbformat_minor": 5
}
