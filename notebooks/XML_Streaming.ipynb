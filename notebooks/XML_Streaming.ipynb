{
 "cells": [
  {
   "cell_type": "markdown",
   "id": "e0f4cabd",
   "metadata": {},
   "source": [
    "# XML Streaming"
   ]
  },
  {
   "cell_type": "markdown",
   "id": "a5b84a99",
   "metadata": {},
   "source": [
    "#### Model"
   ]
  },
  {
   "cell_type": "code",
   "execution_count": 3,
   "id": "8584cb48",
   "metadata": {},
   "outputs": [
    {
     "data": {
      "text/plain": [
       "True"
      ]
     },
     "execution_count": 3,
     "metadata": {},
     "output_type": "execute_result"
    }
   ],
   "source": [
    "from openai import AzureOpenAI\n",
    "from dotenv import load_dotenv\n",
    "from os import getenv\n",
    "\n",
    "\n",
    "load_dotenv()"
   ]
  },
  {
   "cell_type": "code",
   "execution_count": 7,
   "id": "11afb010",
   "metadata": {},
   "outputs": [],
   "source": [
    "client = AzureOpenAI(\n",
    "    api_key=getenv(\"AZURE_OPENAI_API_KEY\"),\n",
    "    azure_endpoint=getenv(\"AZURE_OPENAI_ENDPOINT\"),\n",
    "    api_version=getenv(\"AZURE_OPENAI_API_VERSION\")\n",
    ")\n",
    "MODEL_NAME = \"gpt-4o\""
   ]
  },
  {
   "cell_type": "markdown",
   "id": "2f71d67b",
   "metadata": {},
   "source": [
    "#### XML Parser"
   ]
  },
  {
   "cell_type": "code",
   "execution_count": 5,
   "id": "da888203",
   "metadata": {},
   "outputs": [],
   "source": [
    "from langchain_core.output_parsers import XMLOutputParser"
   ]
  },
  {
   "cell_type": "markdown",
   "id": "04dc8ac5",
   "metadata": {},
   "source": [
    "#### Sample Prompt"
   ]
  },
  {
   "cell_type": "code",
   "execution_count": 6,
   "id": "f8351e81",
   "metadata": {},
   "outputs": [],
   "source": [
    "SAMPLE_PROMPT = \"\"\"\n",
    "You are an expert data translation tool. Your task is to follow given instruction about a {topic} and generated appropriate response in XML format.\n",
    "\n",
    "Example:\n",
    "Input: List out the features of the employee named Joe aged 24 who was born on 27th june 1990\n",
    "Output:\n",
    "<employee>\n",
    " <name>Joe</name>\n",
    " <age>24</age>\n",
    " <dob>27-06-1990</dob>\n",
    " </employee>\n",
    "\"\"\""
   ]
  },
  {
   "cell_type": "code",
   "execution_count": 15,
   "id": "a7052097",
   "metadata": {},
   "outputs": [],
   "source": [
    "query = \"A basic summary of Keanu Reeves\"\n",
    "\n",
    "messages = [\n",
    "    {\n",
    "        \"role\": \"system\", \"content\": SAMPLE_PROMPT\n",
    "    },\n",
    "    {\n",
    "        \"role\": \"user\", \"content\": query\n",
    "    }\n",
    "]"
   ]
  },
  {
   "cell_type": "code",
   "execution_count": null,
   "id": "7636e24a",
   "metadata": {},
   "outputs": [
    {
     "name": "stdout",
     "output_type": "stream",
     "text": [
      "```xml\n",
      "<celebrity>\n",
      "    <name>Keanu Reeves</name>\n",
      "    <profession>Actor</profession>\n",
      "    <nationality>Canadian</nationality>\n",
      "    <birthdate>02-09-1964</birthdate>\n",
      "    <notableWorks>\n",
      "        <work>The Matrix Series</work>\n",
      "        <work>John Wick Series</work>\n",
      "        <work>Speed</work>\n",
      "        <work>Bill & Ted's Excellent Adventure</work>\n",
      "    </notableWorks>\n",
      "    <characteristics>\n",
      "        <trait>Humble personality</trait>\n",
      "        <trait>Philanthropic efforts</trait>\n",
      "        <trait>Action movie stardom</trait>\n",
      "    </characteristics>\n",
      "</celebrity>\n",
      "```\n"
     ]
    }
   ],
   "source": [
    "completion = client.chat.completions.create(\n",
    "  model=MODEL_NAME,\n",
    "  store=False,\n",
    "  messages=messages\n",
    ")\n",
    "\n",
    "print(completion.choices[0].message.content)"
   ]
  },
  {
   "cell_type": "markdown",
   "id": "52eb52cf",
   "metadata": {},
   "source": [
    "#### XML Tree Parsing"
   ]
  },
  {
   "cell_type": "code",
   "execution_count": 18,
   "id": "765776c3",
   "metadata": {},
   "outputs": [],
   "source": [
    "import xml.etree.ElementTree as ET"
   ]
  },
  {
   "cell_type": "code",
   "execution_count": null,
   "id": "7e109f7e",
   "metadata": {},
   "outputs": [
    {
     "name": "stdout",
     "output_type": "stream",
     "text": [
      "<root>\n",
      "  <tag1>Theroot>\n",
      "  <tag1>The Great Gatsby</tag1>\n",
      "  <tag2>F. Scott Fitzgerald</tag2>\n",
      "  <tag3>Classic Fiction</tag3>\n",
      "</root>"
     ]
    }
   ],
   "source": [
    "# Define the prompt with the XML schema\n",
    "prompt = \"\"\"\n",
    "Generate XML content for the given query\n",
    "Example:\n",
    "<root>\n",
    "  <tag1>value1</tag1>\n",
    "  <tag2>value2</tag2>\n",
    "  <tag3>value3</tag3>\n",
    "</root>\n",
    "Ensure the output is valid XML, with properly closed tags and no extraneous content. Provide the content for tag1, tag2, and tag3 based on the context: \"Describe a book with title, author, and genre.\"\n",
    "Do not include ` or codeblocks\n",
    "\"\"\"\n",
    "\n",
    "# Start streaming\n",
    "xml_output = \"\"\n",
    "\n",
    "user_input = \"Poodle dog age 3 healthy\" # this will be from text area\n",
    "\n",
    "stream = client.chat.completions.create(\n",
    "    model=MODEL_NAME,\n",
    "    messages=[\n",
    "        {\"role\": \"system\", \"content\": \"You are a helpful assistant that generates valid XML according to the provided schema.\"},\n",
    "        {\"role\": \"user\", \"content\": prompt},\n",
    "        {\"role\": \"user\", \"content\": user_input}\n",
    "    ],\n",
    "    stream=True\n",
    ")\n",
    "\n",
    "# Process streamed chunks\n",
    "\n",
    "for chunk in stream:\n",
    "    if chunk.choices and chunk.choices[0].delta:\n",
    "        data = chunk.choices[0].delta\n",
    "        if data and hasattr(data, \"content\"):\n",
    "          content = data.content\n",
    "          if content == None:\n",
    "            continue\n",
    "          xml_output += content\n",
    "          \n",
    "          print(content, end=\"\", flush=True)\n",
    "\n",
    "# Close the stream\n",
    "stream.close()\n"
   ]
  }
 ],
 "metadata": {
  "kernelspec": {
   "display_name": "learning-bHz_lsOL",
   "language": "python",
   "name": "python3"
  },
  "language_info": {
   "codemirror_mode": {
    "name": "ipython",
    "version": 3
   },
   "file_extension": ".py",
   "mimetype": "text/x-python",
   "name": "python",
   "nbconvert_exporter": "python",
   "pygments_lexer": "ipython3",
   "version": "3.10.5"
  }
 },
 "nbformat": 4,
 "nbformat_minor": 5
}
