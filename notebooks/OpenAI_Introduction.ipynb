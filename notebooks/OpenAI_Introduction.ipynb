{
 "cells": [
  {
   "cell_type": "markdown",
   "id": "fac3d7b1",
   "metadata": {},
   "source": [
    "# OpenAI Introduction\n",
    "\n",
    "Use this for [reference](https://platform.openai.com/docs/api-reference/authentication)"
   ]
  },
  {
   "cell_type": "code",
   "execution_count": 1,
   "id": "cd25bac4",
   "metadata": {},
   "outputs": [
    {
     "name": "stdout",
     "output_type": "stream",
     "text": [
      "Note: you may need to restart the kernel to use updated packages.\n"
     ]
    }
   ],
   "source": [
    "%pipenv install openai python-dotenv -q"
   ]
  },
  {
   "cell_type": "markdown",
   "id": "63e56514",
   "metadata": {},
   "source": [
    "> Create an OpenAI account and get an API_KEY"
   ]
  },
  {
   "cell_type": "markdown",
   "id": "6f543321",
   "metadata": {},
   "source": [
    "### OpenAI:\n",
    "\n",
    "1. Chat completion API\n",
    "2. Implement structured output\n",
    "3. Implement tool calling\n",
    "4. Implement streaming\n",
    "5. Implement assistant\n",
    "6. Response API\n",
    "7. Chaining of response"
   ]
  },
  {
   "cell_type": "code",
   "execution_count": 2,
   "id": "e07b8812",
   "metadata": {},
   "outputs": [
    {
     "data": {
      "text/plain": [
       "True"
      ]
     },
     "execution_count": 2,
     "metadata": {},
     "output_type": "execute_result"
    }
   ],
   "source": [
    "from openai import OpenAI\n",
    "from os import getenv\n",
    "from dotenv import load_dotenv\n",
    "\n",
    "load_dotenv()"
   ]
  },
  {
   "cell_type": "code",
   "execution_count": 3,
   "id": "82915665",
   "metadata": {},
   "outputs": [],
   "source": [
    "client = OpenAI(\n",
    "  api_key=getenv(\"OPENAI_API_KEY\")\n",
    ")"
   ]
  },
  {
   "cell_type": "markdown",
   "id": "026dccaf",
   "metadata": {},
   "source": [
    "### List Models"
   ]
  },
  {
   "cell_type": "code",
   "execution_count": 14,
   "id": "b0e7e55c",
   "metadata": {},
   "outputs": [],
   "source": [
    "models = client.models.list()\n",
    "model_names = [model.id for model in models if \"gpt\" in model.id]"
   ]
  },
  {
   "cell_type": "code",
   "execution_count": 15,
   "id": "459f0e36",
   "metadata": {},
   "outputs": [
    {
     "data": {
      "text/plain": [
       "['gpt-4o-audio-preview-2024-10-01',\n",
       " 'gpt-4o-mini-audio-preview',\n",
       " 'gpt-4o-audio-preview',\n",
       " 'gpt-4.1-nano',\n",
       " 'gpt-3.5-turbo-instruct-0914',\n",
       " 'gpt-4o-mini-search-preview',\n",
       " 'gpt-4.1-nano-2025-04-14',\n",
       " 'gpt-3.5-turbo-16k',\n",
       " 'gpt-3.5-turbo-1106',\n",
       " 'gpt-4o-search-preview',\n",
       " 'gpt-3.5-turbo-instruct',\n",
       " 'gpt-3.5-turbo',\n",
       " 'gpt-4o-mini-search-preview-2025-03-11',\n",
       " 'gpt-4o-2024-11-20',\n",
       " 'gpt-4o-2024-05-13',\n",
       " 'gpt-4o-mini-tts',\n",
       " 'gpt-4o-transcribe',\n",
       " 'gpt-4.5-preview',\n",
       " 'gpt-4.5-preview-2025-02-27',\n",
       " 'gpt-4o-search-preview-2025-03-11',\n",
       " 'gpt-image-1',\n",
       " 'gpt-4o',\n",
       " 'gpt-4o-2024-08-06',\n",
       " 'gpt-4o-mini-2024-07-18',\n",
       " 'gpt-4.1-mini',\n",
       " 'gpt-4o-mini',\n",
       " 'gpt-4o-mini-audio-preview-2024-12-17',\n",
       " 'gpt-3.5-turbo-0125',\n",
       " 'gpt-4o-mini-transcribe',\n",
       " 'gpt-4.1-mini-2025-04-14',\n",
       " 'gpt-4.1',\n",
       " 'gpt-4.1-2025-04-14']"
      ]
     },
     "execution_count": 15,
     "metadata": {},
     "output_type": "execute_result"
    }
   ],
   "source": [
    "model_names"
   ]
  },
  {
   "cell_type": "markdown",
   "id": "b6f99367",
   "metadata": {},
   "source": [
    "| 1. Chat Completion |\n",
    "|--|\n",
    "\n",
    "\n",
    "The Chat Completions API endpoint will generate a model response from a list of messages comprising a conversation."
   ]
  },
  {
   "cell_type": "code",
   "execution_count": 21,
   "id": "be71f44b",
   "metadata": {},
   "outputs": [],
   "source": [
    "MODEL_NAME = \"gpt-3.5-turbo\""
   ]
  },
  {
   "cell_type": "code",
   "execution_count": null,
   "id": "68c3963e",
   "metadata": {},
   "outputs": [],
   "source": [
    "completion = client.chat.completions.create(\n",
    "  model=MODEL_NAME,\n",
    "  store=False,\n",
    "  messages=[\n",
    "    {\"role\": \"user\", \"content\": \"write a haiku about ai\"}\n",
    "  ]\n",
    ")"
   ]
  },
  {
   "cell_type": "code",
   "execution_count": null,
   "id": "4e36c2c9",
   "metadata": {},
   "outputs": [],
   "source": [
    "print(completion.choices[0].message.content)"
   ]
  },
  {
   "cell_type": "markdown",
   "id": "141d1877",
   "metadata": {},
   "source": [
    "| 2. Structured Output |\n",
    "|--|\n",
    "\n",
    "Structured Outputs is a feature that ensures the model will always generate responses that adhere to your supplied JSON Schema,"
   ]
  },
  {
   "cell_type": "code",
   "execution_count": null,
   "id": "5331a9bb",
   "metadata": {},
   "outputs": [],
   "source": [
    "!pipenv install pydantic"
   ]
  },
  {
   "cell_type": "code",
   "execution_count": 19,
   "id": "959601f5",
   "metadata": {},
   "outputs": [],
   "source": [
    "from pydantic import BaseModel"
   ]
  },
  {
   "cell_type": "code",
   "execution_count": 20,
   "id": "93491fc7",
   "metadata": {},
   "outputs": [],
   "source": [
    "class UserRegistration(BaseModel):\n",
    "    name: str\n",
    "    age: int\n",
    "    tier: int"
   ]
  },
  {
   "cell_type": "code",
   "execution_count": null,
   "id": "94404453",
   "metadata": {},
   "outputs": [],
   "source": [
    "completion = client.beta.chat.completions.parse(\n",
    "    model=MODEL_NAME,\n",
    "    messages=[\n",
    "        {\"role\": \"system\", \"content\": \"Extract the user information.\"},\n",
    "        {\"role\": \"user\", \"content\": \"We have a new user named Tim aged 25 with a tier 3 account.\"},\n",
    "    ],\n",
    "    response_format=UserRegistration,\n",
    ")"
   ]
  },
  {
   "cell_type": "code",
   "execution_count": null,
   "id": "57b37cb8",
   "metadata": {},
   "outputs": [],
   "source": [
    "event = completion.choices[0].message.parsed\n",
    "event"
   ]
  },
  {
   "cell_type": "markdown",
   "id": "133937da",
   "metadata": {},
   "source": [
    "| 3. Tool/Function Calling |\n",
    "|--|\n",
    "\n",
    "Function calling provides a powerful and flexible way for OpenAI models to interface with your code or external services. \n",
    "\n"
   ]
  },
  {
   "cell_type": "code",
   "execution_count": 23,
   "id": "9030b0eb",
   "metadata": {},
   "outputs": [],
   "source": [
    "tools = [{\n",
    "    \"type\": \"function\",\n",
    "    \"function\": {\n",
    "        \"name\": \"get_weather\",\n",
    "        \"description\": \"Get current temperature for a given location.\",\n",
    "        \"parameters\": {\n",
    "            \"type\": \"object\",\n",
    "            \"properties\": {\n",
    "                \"location\": {\n",
    "                    \"type\": \"string\",\n",
    "                    \"description\": \"City and country e.g. Bogotá, Colombia\"\n",
    "                }\n",
    "            },\n",
    "            \"required\": [\n",
    "                \"location\"\n",
    "            ],\n",
    "            \"additionalProperties\": False\n",
    "        },\n",
    "        \"strict\": True\n",
    "    }\n",
    "}]"
   ]
  },
  {
   "cell_type": "markdown",
   "id": "351b6d26",
   "metadata": {},
   "source": [
    "| Function -> Tool JSON Convertor |\n",
    "|--|\n",
    "\n",
    "Automate tool JSON creation"
   ]
  },
  {
   "cell_type": "code",
   "execution_count": 43,
   "id": "63f5e46d",
   "metadata": {},
   "outputs": [],
   "source": [
    "import inspect\n",
    "from typing import Callable, get_type_hints"
   ]
  },
  {
   "cell_type": "code",
   "execution_count": 55,
   "id": "00fb5a71",
   "metadata": {},
   "outputs": [],
   "source": [
    "def generate_json_schema(func: Callable) -> str:\n",
    "    \"\"\"\n",
    "    Generate a JSON schema for a given function based on its docstring and type hints.\n",
    "\n",
    "    Args:\n",
    "        func (Callable): The Python function to generate a schema for.\n",
    "\n",
    "    Returns:\n",
    "        str: A JSON string representing the function's schema.\n",
    "\n",
    "    Raises:\n",
    "        ValueError: If the function lacks a docstring.\n",
    "    \"\"\"\n",
    "    # Get function metadata\n",
    "    if not func.__doc__:\n",
    "        raise ValueError(\"Function must have a docstring\")\n",
    "\n",
    "    signature = inspect.signature(func)\n",
    "    type_hints = get_type_hints(func)\n",
    "\n",
    "    # Parse docstring\n",
    "    docstring = inspect.getdoc(func) or \"\"\n",
    "    doc_lines = docstring.split('\\n')\n",
    "    description = doc_lines[0].strip()  # First line is the main description\n",
    "    param_descriptions = {}\n",
    "    in_args_section = False\n",
    "\n",
    "    # Extract parameter descriptions\n",
    "    for line in doc_lines:\n",
    "        line = line.strip()\n",
    "        if line.lower().startswith('args:'):\n",
    "            in_args_section = True\n",
    "            continue\n",
    "        if in_args_section and line and ':' in line:\n",
    "            # Handle lines like \"param_name (type): description\"\n",
    "            parts = line.split(':', 1)\n",
    "            param_part = parts[0].strip()\n",
    "            desc = parts[1].strip() if len(parts) > 1 else \"\"\n",
    "            # Extract param_name from \"param_name (type)\"\n",
    "            if '(' in param_part and ')' in param_part:\n",
    "                param_name = param_part[:param_part.index('(')].strip()\n",
    "            else:\n",
    "                param_name = param_part\n",
    "            if param_name:\n",
    "                param_descriptions[param_name] = desc\n",
    "\n",
    "    # Map Python types to JSON schema types\n",
    "    type_mapping = {\n",
    "        'str': 'string',\n",
    "        'int': 'integer',\n",
    "        'float': 'number',\n",
    "        'bool': 'boolean',\n",
    "        'dict': 'object',\n",
    "        'list': 'array'\n",
    "    }\n",
    "\n",
    "    # Build schema\n",
    "    schema = {\n",
    "        \"type\": \"function\",\n",
    "        \"function\": {\n",
    "            \"name\": func.__name__,\n",
    "            \"description\": description,\n",
    "            \"parameters\": {\n",
    "                \"type\": \"object\",\n",
    "                \"properties\": {},\n",
    "                \"required\": [],\n",
    "                \"additionalProperties\": False\n",
    "            },\n",
    "            \"strict\": True\n",
    "        }\n",
    "    }\n",
    "\n",
    "    # Add parameters to schema\n",
    "    for param_name, param in signature.parameters.items():\n",
    "        # Get type from type hints, default to str if not specified\n",
    "        param_type = type_hints.get(param_name, str).__name__\n",
    "        schema_type = type_mapping.get(param_type, 'string')  # Default to string\n",
    "        \n",
    "        schema[\"function\"][\"parameters\"][\"properties\"][param_name] = {\n",
    "            \"type\": schema_type,\n",
    "            \"description\": param_descriptions.get(param_name, f\"{param_name} parameter\")\n",
    "        }\n",
    "        # Mark as required if no default value\n",
    "        if param.default == inspect.Parameter.empty and param.kind != inspect.Parameter.VAR_KEYWORD:\n",
    "            schema[\"function\"][\"parameters\"][\"required\"].append(param_name)\n",
    "\n",
    "    return schema"
   ]
  },
  {
   "cell_type": "markdown",
   "id": "77fa6e45",
   "metadata": {},
   "source": [
    "#### Weather function"
   ]
  },
  {
   "cell_type": "code",
   "execution_count": 56,
   "id": "9d5b784a",
   "metadata": {},
   "outputs": [],
   "source": [
    "def get_weather(location: str) -> dict:\n",
    "    \"\"\"\n",
    "    Get current temperature for a given location.\n",
    "\n",
    "    Args:\n",
    "        location (str): City and country e.g. Bogotá, Colombia\n",
    "\n",
    "    Returns:\n",
    "        dict: A dictionary containing the current temperature and other weather details.\n",
    "    \"\"\"\n",
    "    return {\"location\": location, \"temperature\": 25, \"unit\": \"Celsius\"}"
   ]
  },
  {
   "cell_type": "code",
   "execution_count": 57,
   "id": "b4f28a45",
   "metadata": {},
   "outputs": [
    {
     "data": {
      "text/plain": [
       "{'type': 'function',\n",
       " 'function': {'name': 'get_weather',\n",
       "  'description': 'Get current temperature for a given location.',\n",
       "  'parameters': {'type': 'object',\n",
       "   'properties': {'location': {'type': 'string',\n",
       "     'description': 'City and country e.g. Bogotá, Colombia'}},\n",
       "   'required': ['location'],\n",
       "   'additionalProperties': False},\n",
       "  'strict': True}}"
      ]
     },
     "execution_count": 57,
     "metadata": {},
     "output_type": "execute_result"
    }
   ],
   "source": [
    "generate_json_schema(func=get_weather)"
   ]
  },
  {
   "cell_type": "code",
   "execution_count": 58,
   "id": "1548b12f",
   "metadata": {},
   "outputs": [
    {
     "data": {
      "text/plain": [
       "{'type': 'function',\n",
       " 'function': {'name': 'get_weather',\n",
       "  'description': 'Get current temperature for a given location.',\n",
       "  'parameters': {'type': 'object',\n",
       "   'properties': {'location': {'type': 'string',\n",
       "     'description': 'City and country e.g. Bogotá, Colombia'}},\n",
       "   'required': ['location'],\n",
       "   'additionalProperties': False},\n",
       "  'strict': True}}"
      ]
     },
     "execution_count": 58,
     "metadata": {},
     "output_type": "execute_result"
    }
   ],
   "source": [
    "tools[0]"
   ]
  },
  {
   "cell_type": "markdown",
   "id": "93146159",
   "metadata": {},
   "source": [
    "#### Tool Calling"
   ]
  },
  {
   "cell_type": "code",
   "execution_count": null,
   "id": "56bb0f9a",
   "metadata": {},
   "outputs": [],
   "source": [
    "completion = client.chat.completions.create(\n",
    "    model=MODEL_NAME,\n",
    "    messages=[{\"role\": \"user\", \"content\": \"What is the weather like in Paris today?\"}],\n",
    "    tools=tools\n",
    ")"
   ]
  },
  {
   "cell_type": "code",
   "execution_count": null,
   "id": "adcb8782",
   "metadata": {},
   "outputs": [],
   "source": [
    "print(completion.choices[0].message.tool_calls)"
   ]
  }
 ],
 "metadata": {
  "kernelspec": {
   "display_name": "learning-bHz_lsOL",
   "language": "python",
   "name": "python3"
  },
  "language_info": {
   "codemirror_mode": {
    "name": "ipython",
    "version": 3
   },
   "file_extension": ".py",
   "mimetype": "text/x-python",
   "name": "python",
   "nbconvert_exporter": "python",
   "pygments_lexer": "ipython3",
   "version": "3.10.5"
  }
 },
 "nbformat": 4,
 "nbformat_minor": 5
}
